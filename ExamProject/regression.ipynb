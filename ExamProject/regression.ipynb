{
 "cells": [
  {
   "cell_type": "markdown",
   "id": "d6cfcb7c",
   "metadata": {},
   "source": [
    "## Regressions\n"
   ]
  },
  {
   "cell_type": "code",
   "execution_count": 21,
   "id": "4c8ce43c",
   "metadata": {},
   "outputs": [
    {
     "name": "stderr",
     "output_type": "stream",
     "text": [
      "[nltk_data] Downloading package punkt to /Users/mieharder/nltk_data...\n",
      "[nltk_data]   Package punkt is already up-to-date!\n",
      "[nltk_data] Downloading package wordnet to\n",
      "[nltk_data]     /Users/mieharder/nltk_data...\n",
      "[nltk_data]   Package wordnet is already up-to-date!\n",
      "[nltk_data] Downloading package stopwords to\n",
      "[nltk_data]     /Users/mieharder/nltk_data...\n",
      "[nltk_data]   Package stopwords is already up-to-date!\n"
     ]
    }
   ],
   "source": [
    "## load packages\n",
    "\n",
    "import pandas as pd\n",
    "import datetime\n",
    "\n",
    "#SKLEARN\n",
    "from sklearn.model_selection import train_test_split\n",
    "\n",
    "# for vectorization \n",
    "from sklearn.feature_extraction.text import CountVectorizer\n",
    "from sklearn.feature_extraction.text import TfidfVectorizer\n",
    "from sklearn.feature_extraction.text import TfidfTransformer\n",
    "\n",
    "#For word handeling\n",
    "import string \n",
    "import nltk\n",
    "nltk.download('punkt') # you will probably need to do this\n",
    "nltk.download('wordnet') # and this\n",
    "nltk.download('stopwords') # aand this\n",
    "\n",
    "# for classification\n",
    "from sklearn.linear_model import LogisticRegression\n",
    "from sklearn.metrics import confusion_matrix\n",
    "from sklearn.model_selection import GridSearchCV\n",
    "from sklearn.pipeline import Pipeline\n",
    "\n",
    "\n",
    "import numpy as np\n",
    "\n",
    "\n",
    "import time"
   ]
  },
  {
   "cell_type": "code",
   "execution_count": 22,
   "id": "1fcc42ae",
   "metadata": {},
   "outputs": [],
   "source": [
    "def preprocess(text):\n",
    "    low_text= text.lower()\n",
    "    low_text = low_text.translate(str.maketrans('', '', string.punctuation))\n",
    "    tokens = nltk.word_tokenize(low_text)\n",
    "    porter = nltk.WordNetLemmatizer()\n",
    "    lemmatizer=[porter.lemmatize(t) for t in tokens]\n",
    "    stop_words_list = stoppelop\n",
    "    sent_sw_removed = [i for i in lemmatizer if i not in stop_words_list]\n",
    "    lemmas=[i for i in sent_sw_removed if i!='br']\n",
    "    return lemmas # return a list of stems/lemmas"
   ]
  },
  {
   "cell_type": "code",
   "execution_count": 26,
   "id": "89119c4f",
   "metadata": {},
   "outputs": [],
   "source": [
    "## Get data\n",
    "df_c = pd.read_csv('df_comments_final.csv')\n",
    "df_c = df_c.dropna(axis=0, how='any', thresh=None, subset=None, inplace=False)\n",
    "df_c=df_c[df_c['Comments']!='No Comments']\n",
    "\n",
    "df_c['year'] = df_c['Dates'].str[2:4]\n",
    "\n",
    "#Divide into target and features\n",
    "y= df_c['status']\n",
    "\n",
    "X = df_c['Comments']\n",
    "\n",
    "X_train, X_test, y_train, y_test = train_test_split(X, y, random_state=161193)"
   ]
  },
  {
   "cell_type": "code",
   "execution_count": 23,
   "id": "82632712",
   "metadata": {},
   "outputs": [],
   "source": [
    "with open('STOPlist.txt') as f:\n",
    "    stoppelop = f.read().splitlines()\n",
    "#stoppelop\n"
   ]
  },
  {
   "cell_type": "code",
   "execution_count": 27,
   "id": "3b805f3c",
   "metadata": {},
   "outputs": [
    {
     "name": "stdout",
     "output_type": "stream",
     "text": [
      "442.80586218833923\n"
     ]
    }
   ],
   "source": [
    "#Vectorize - both using count and tfidf\n",
    "\n",
    "start = time.time()\n",
    "#using count and own preprocesser\n",
    "vectorizerc = CountVectorizer(tokenizer=preprocess)\n",
    "\n",
    "# The top N most frequent features:\n",
    "#vectorizerc_most = CountVectorizer(max_features=80, tokenizer=preprocess)\n",
    "\n",
    "#using tfidf vectorizer\n",
    "vectorizertfidf = TfidfVectorizer(tokenizer=preprocess)\n",
    "\n",
    "\n",
    "#Using tfidf vectorizer w highest features\n",
    "#vectorizertfidf = Tfidf_mostVectorizer(tokenizer=preprocess)\n",
    "\n",
    "# fit and transform train and test set for each vectorizer:\n",
    "X_train_c = vectorizerc.fit_transform(X_train)\n",
    "#X_train_c_most = vectorizerc_most.fit_transform(X_train)\n",
    "#X_train_tf = vectorizertfidf.fit_transform(X_train)\n",
    "\n",
    "\n",
    "# Only tranform test set: never fit your vectorizer on the test set (it is cheating). Out-of-Vocabulary words are handled automatically be sklearn's vectorizer.\n",
    "X_test_c = vectorizerc.transform(X_test)\n",
    "#X_test_bow = vectorizerc_most.transform(X_test)\n",
    "#X_test_tf = vectorizertfidf.transform(X_test)\n",
    "\n",
    "end = time.time()\n",
    "print(end-start)\n"
   ]
  },
  {
   "cell_type": "markdown",
   "id": "76619508",
   "metadata": {},
   "source": [
    "### Check difference in precision of count and tf_idf vectorization (using lasso)"
   ]
  },
  {
   "cell_type": "code",
   "execution_count": null,
   "id": "fff462a9",
   "metadata": {
    "scrolled": true
   },
   "outputs": [],
   "source": [
    "start = time.time()\n",
    "\n",
    "# classifier\n",
    "lr = LogisticRegression(random_state=0, penalty = 'l1', solver = 'saga', max_iter=4000)\n",
    "\n",
    "#training\n",
    "lr.fit(X_train_c,y_train)\n",
    "\n",
    "#testing\n",
    "train_preds = lr.predict(X_train_c)\n",
    "test_preds = lr.predict(X_test_c)\n",
    "print(\"training accuracy:\", np.mean([(train_preds==y_train)]))\n",
    "print(\"testing accuracy:\", np.mean([(test_preds==y_test)]))\n",
    "\n",
    "end = time.time()\n",
    "print(end-start)"
   ]
  },
  {
   "cell_type": "code",
   "execution_count": 20,
   "id": "243a008a",
   "metadata": {},
   "outputs": [
    {
     "name": "stdout",
     "output_type": "stream",
     "text": [
      "                      0\n",
      "d2l            5.717260\n",
      "backtests      5.192373\n",
      "eco            3.917293\n",
      "aap            3.824813\n",
      "std            3.766660\n",
      "cssw           3.506478\n",
      "declared       3.469832\n",
      "psets          3.195103\n",
      "inferential    3.194954\n",
      "remarkably     3.151806\n",
      "fanis          3.102304\n",
      "materialstudy  3.098247\n",
      "redemption     2.975836\n",
      "eloquent       2.964848\n",
      "nobel          2.892067\n",
      "recommed       2.857539\n",
      "mat            2.833813\n",
      "researeasch    2.752742\n",
      "recycled       2.711949\n",
      "sucess         2.610963\n",
      "\n",
      "                    0\n",
      "pertaining  -2.932618\n",
      "lawyer      -2.627402\n",
      "wac         -2.518342\n",
      "preaches    -2.041941\n",
      "cm          -2.039950\n",
      "uh          -1.952922\n",
      "acct        -1.917501\n",
      "gi          -1.909742\n",
      "ae          -1.893546\n",
      "hybrid      -1.868063\n",
      "snack       -1.845940\n",
      "csus        -1.804335\n",
      "kumu        -1.776401\n",
      "gov         -1.759752\n",
      "purchase    -1.757204\n",
      "smallest    -1.710018\n",
      "breath      -1.696679\n",
      "trig        -1.616466\n",
      "blog        -1.606236\n",
      "resourceful -1.601962\n"
     ]
    }
   ],
   "source": [
    "features = ['_'.join(s.split()) for s in vectorizerc.get_feature_names()]\n",
    "coefs_df = pd.DataFrame.from_records(lr.coef_, columns=features)\n",
    "coefs_df\n",
    "print(coefs_df.T.sort_values(by=[0], ascending=False).head(20))\n",
    "print()\n",
    "print(coefs_df.T.sort_values(by=[0], ascending=True).head(20))"
   ]
  },
  {
   "cell_type": "code",
   "execution_count": 44,
   "id": "06bdd1d0",
   "metadata": {},
   "outputs": [
    {
     "name": "stdout",
     "output_type": "stream",
     "text": [
      "training accuracy: 0.8096923023554307\n",
      "testing accuracy: 0.7964408367155792\n"
     ]
    }
   ],
   "source": [
    "# classifier\n",
    "lr = LogisticRegression(random_state=0, penalty = 'l1', solver = 'saga')\n",
    "\n",
    "#training\n",
    "lr.fit(X_train_tf,y_train)\n",
    "\n",
    "#testing\n",
    "train_preds = lr.predict(X_train_tf)\n",
    "test_preds = lr.predict(X_test_tf)\n",
    "print(\"training accuracy:\", np.mean([(train_preds==y_train)]))\n",
    "print(\"testing accuracy:\", np.mean([(test_preds==y_test)]))"
   ]
  },
  {
   "cell_type": "markdown",
   "id": "a3e3452b",
   "metadata": {},
   "source": [
    "### Check difference between Lasso and Ridge"
   ]
  },
  {
   "cell_type": "code",
   "execution_count": 8,
   "id": "abd58c10",
   "metadata": {},
   "outputs": [
    {
     "name": "stdout",
     "output_type": "stream",
     "text": [
      "training accuracy: 0.8515801158636\n",
      "testing accuracy: 0.7936830055156624\n"
     ]
    }
   ],
   "source": [
    "start = time.time()\n",
    "\n",
    "# classifier\n",
    "lr = LogisticRegression(random_state=0, penalty = 'l2', solver = 'saga', max_iter=4000)\n",
    "\n",
    "#training\n",
    "lr.fit(X_train_c,y_train)\n",
    "\n",
    "#testing\n",
    "train_preds = lr.predict(X_train_c)\n",
    "test_preds = lr.predict(X_test_c)\n",
    "print(\"training accuracy:\", np.mean([(train_preds==y_train)]))\n",
    "print(\"testing accuracy:\", np.mean([(test_preds==y_test)]))\n",
    "\n",
    "end = time.time()"
   ]
  }
 ],
 "metadata": {
  "kernelspec": {
   "display_name": "Python 3 (ipykernel)",
   "language": "python",
   "name": "python3"
  },
  "language_info": {
   "codemirror_mode": {
    "name": "ipython",
    "version": 3
   },
   "file_extension": ".py",
   "mimetype": "text/x-python",
   "name": "python",
   "nbconvert_exporter": "python",
   "pygments_lexer": "ipython3",
   "version": "3.9.1"
  }
 },
 "nbformat": 4,
 "nbformat_minor": 5
}

{
 "cells": [
  {
   "cell_type": "code",
   "execution_count": 56,
   "id": "75e43f0e",
   "metadata": {},
   "outputs": [
    {
     "name": "stderr",
     "output_type": "stream",
     "text": [
      "[nltk_data] Downloading package punkt to /Users/mieharder/nltk_data...\n",
      "[nltk_data]   Package punkt is already up-to-date!\n",
      "[nltk_data] Downloading package wordnet to\n",
      "[nltk_data]     /Users/mieharder/nltk_data...\n",
      "[nltk_data]   Package wordnet is already up-to-date!\n",
      "[nltk_data] Downloading package stopwords to\n",
      "[nltk_data]     /Users/mieharder/nltk_data...\n",
      "[nltk_data]   Package stopwords is already up-to-date!\n"
     ]
    }
   ],
   "source": [
    "\n",
    "import seaborn as sns\n",
    "import pyprind\n",
    "\n",
    "# basic packages\n",
    "import pandas as pd\n",
    "import os\n",
    "import numpy as np\n",
    "import re # python regular expressions\n",
    "import string # for efficient operations with strings\n",
    "import matplotlib.pyplot as plt\n",
    "%matplotlib inline\n",
    "\n",
    "# For creating dictionaries that you can fill in a loop\n",
    "from collections import defaultdict\n",
    "\n",
    "# NLTK: A basic, popular NLP package. Find many examples of applications at https://www.nltk.org/book/\n",
    "# Install guide: https://www.nltk.org/install.html\n",
    "import nltk\n",
    "nltk.download('punkt') # you will probably need to do this\n",
    "nltk.download('wordnet') # and this\n",
    "nltk.download('stopwords') # aand this\n",
    "\n",
    "# for vectorization \n",
    "from sklearn.feature_extraction.text import CountVectorizer\n",
    "from sklearn.feature_extraction.text import TfidfVectorizer\n",
    "from sklearn.feature_extraction.text import TfidfTransformer\n",
    "\n",
    "#Vader Lexicon for sentiment analysis\n",
    "from vaderSentiment.vaderSentiment import SentimentIntensityAnalyzer\n",
    "\n",
    "# similarity/distance measures\n",
    "from scipy.spatial import distance\n",
    "from sklearn.metrics.pairwise import linear_kernel, cosine_similarity\n",
    "\n",
    "# for classification\n",
    "from sklearn.linear_model import LogisticRegression\n",
    "from sklearn.metrics import confusion_matrix\n",
    "from sklearn.model_selection import GridSearchCV\n",
    "from sklearn.pipeline import Pipeline\n",
    "\n",
    "# Lexicons for sentiment analysis\n",
    "from vaderSentiment import vaderSentiment\n",
    "from afinn import Afinn\n",
    "\n",
    "# to display images in notebook\n",
    "from IPython.display import Image\n",
    "\n",
    "from pandas.core.common import flatten\n",
    "from collections import Counter"
   ]
  },
  {
   "cell_type": "code",
   "execution_count": 27,
   "id": "493f236d",
   "metadata": {},
   "outputs": [
    {
     "data": {
      "text/html": [
       "<div>\n",
       "<style scoped>\n",
       "    .dataframe tbody tr th:only-of-type {\n",
       "        vertical-align: middle;\n",
       "    }\n",
       "\n",
       "    .dataframe tbody tr th {\n",
       "        vertical-align: top;\n",
       "    }\n",
       "\n",
       "    .dataframe thead th {\n",
       "        text-align: right;\n",
       "    }\n",
       "</style>\n",
       "<table border=\"1\" class=\"dataframe\">\n",
       "  <thead>\n",
       "    <tr style=\"text-align: right;\">\n",
       "      <th></th>\n",
       "      <th>Unnamed: 0</th>\n",
       "      <th>Comments</th>\n",
       "      <th>Quality</th>\n",
       "      <th>Difficulty</th>\n",
       "      <th>Dates</th>\n",
       "      <th>TeacherID</th>\n",
       "      <th>SchoolID</th>\n",
       "      <th>status</th>\n",
       "      <th>Month</th>\n",
       "    </tr>\n",
       "  </thead>\n",
       "  <tbody>\n",
       "    <tr>\n",
       "      <th>0</th>\n",
       "      <td>0</td>\n",
       "      <td>Professor Acres is incredible--friendly, knowl...</td>\n",
       "      <td>5.0</td>\n",
       "      <td>4.0</td>\n",
       "      <td>2017-05-02</td>\n",
       "      <td>336888</td>\n",
       "      <td>780</td>\n",
       "      <td>top</td>\n",
       "      <td>5.0</td>\n",
       "    </tr>\n",
       "    <tr>\n",
       "      <th>1</th>\n",
       "      <td>1</td>\n",
       "      <td>He is an amazing professor- I definitely recom...</td>\n",
       "      <td>5.0</td>\n",
       "      <td>3.0</td>\n",
       "      <td>2017-04-28</td>\n",
       "      <td>336888</td>\n",
       "      <td>780</td>\n",
       "      <td>top</td>\n",
       "      <td>4.0</td>\n",
       "    </tr>\n",
       "    <tr>\n",
       "      <th>2</th>\n",
       "      <td>2</td>\n",
       "      <td>Great!</td>\n",
       "      <td>3.0</td>\n",
       "      <td>3.0</td>\n",
       "      <td>2012-03-23</td>\n",
       "      <td>336888</td>\n",
       "      <td>780</td>\n",
       "      <td>top</td>\n",
       "      <td>3.0</td>\n",
       "    </tr>\n",
       "    <tr>\n",
       "      <th>3</th>\n",
       "      <td>3</td>\n",
       "      <td>Awesome</td>\n",
       "      <td>5.0</td>\n",
       "      <td>1.0</td>\n",
       "      <td>2011-02-01</td>\n",
       "      <td>336888</td>\n",
       "      <td>780</td>\n",
       "      <td>top</td>\n",
       "      <td>2.0</td>\n",
       "    </tr>\n",
       "    <tr>\n",
       "      <th>4</th>\n",
       "      <td>4</td>\n",
       "      <td>Al is an absolutely great professor. His semin...</td>\n",
       "      <td>5.0</td>\n",
       "      <td>4.0</td>\n",
       "      <td>2007-10-21</td>\n",
       "      <td>336888</td>\n",
       "      <td>780</td>\n",
       "      <td>top</td>\n",
       "      <td>10.0</td>\n",
       "    </tr>\n",
       "    <tr>\n",
       "      <th>...</th>\n",
       "      <td>...</td>\n",
       "      <td>...</td>\n",
       "      <td>...</td>\n",
       "      <td>...</td>\n",
       "      <td>...</td>\n",
       "      <td>...</td>\n",
       "      <td>...</td>\n",
       "      <td>...</td>\n",
       "      <td>...</td>\n",
       "    </tr>\n",
       "    <tr>\n",
       "      <th>81712</th>\n",
       "      <td>81712</td>\n",
       "      <td>Difficult to understand and not very helpful. ...</td>\n",
       "      <td>1.5</td>\n",
       "      <td>3.0</td>\n",
       "      <td>2009-12-23</td>\n",
       "      <td>608528</td>\n",
       "      <td>4171</td>\n",
       "      <td>bottom</td>\n",
       "      <td>12.0</td>\n",
       "    </tr>\n",
       "    <tr>\n",
       "      <th>81713</th>\n",
       "      <td>81713</td>\n",
       "      <td>MUY MAL!! This teacher is unorganized and scat...</td>\n",
       "      <td>1.0</td>\n",
       "      <td>1.0</td>\n",
       "      <td>2005-12-22</td>\n",
       "      <td>608528</td>\n",
       "      <td>4171</td>\n",
       "      <td>bottom</td>\n",
       "      <td>12.0</td>\n",
       "    </tr>\n",
       "    <tr>\n",
       "      <th>81714</th>\n",
       "      <td>81714</td>\n",
       "      <td>very sweet disposition -- very willing to help...</td>\n",
       "      <td>5.0</td>\n",
       "      <td>1.0</td>\n",
       "      <td>2005-12-20</td>\n",
       "      <td>608528</td>\n",
       "      <td>4171</td>\n",
       "      <td>bottom</td>\n",
       "      <td>12.0</td>\n",
       "    </tr>\n",
       "    <tr>\n",
       "      <th>81715</th>\n",
       "      <td>81715</td>\n",
       "      <td>This professor is very helpful, wants her stud...</td>\n",
       "      <td>5.0</td>\n",
       "      <td>1.0</td>\n",
       "      <td>2005-09-06</td>\n",
       "      <td>608528</td>\n",
       "      <td>4171</td>\n",
       "      <td>bottom</td>\n",
       "      <td>9.0</td>\n",
       "    </tr>\n",
       "    <tr>\n",
       "      <th>81716</th>\n",
       "      <td>81716</td>\n",
       "      <td>This professor just rox.  She is in possession...</td>\n",
       "      <td>5.0</td>\n",
       "      <td>1.0</td>\n",
       "      <td>2005-04-29</td>\n",
       "      <td>608528</td>\n",
       "      <td>4171</td>\n",
       "      <td>bottom</td>\n",
       "      <td>4.0</td>\n",
       "    </tr>\n",
       "  </tbody>\n",
       "</table>\n",
       "<p>81717 rows × 9 columns</p>\n",
       "</div>"
      ],
      "text/plain": [
       "       Unnamed: 0                                           Comments  Quality  \\\n",
       "0               0  Professor Acres is incredible--friendly, knowl...      5.0   \n",
       "1               1  He is an amazing professor- I definitely recom...      5.0   \n",
       "2               2                                             Great!      3.0   \n",
       "3               3                                            Awesome      5.0   \n",
       "4               4  Al is an absolutely great professor. His semin...      5.0   \n",
       "...           ...                                                ...      ...   \n",
       "81712       81712  Difficult to understand and not very helpful. ...      1.5   \n",
       "81713       81713  MUY MAL!! This teacher is unorganized and scat...      1.0   \n",
       "81714       81714  very sweet disposition -- very willing to help...      5.0   \n",
       "81715       81715  This professor is very helpful, wants her stud...      5.0   \n",
       "81716       81716  This professor just rox.  She is in possession...      5.0   \n",
       "\n",
       "       Difficulty      Dates  TeacherID  SchoolID  status  Month  \n",
       "0             4.0 2017-05-02     336888       780     top    5.0  \n",
       "1             3.0 2017-04-28     336888       780     top    4.0  \n",
       "2             3.0 2012-03-23     336888       780     top    3.0  \n",
       "3             1.0 2011-02-01     336888       780     top    2.0  \n",
       "4             4.0 2007-10-21     336888       780     top   10.0  \n",
       "...           ...        ...        ...       ...     ...    ...  \n",
       "81712         3.0 2009-12-23     608528      4171  bottom   12.0  \n",
       "81713         1.0 2005-12-22     608528      4171  bottom   12.0  \n",
       "81714         1.0 2005-12-20     608528      4171  bottom   12.0  \n",
       "81715         1.0 2005-09-06     608528      4171  bottom    9.0  \n",
       "81716         1.0 2005-04-29     608528      4171  bottom    4.0  \n",
       "\n",
       "[81717 rows x 9 columns]"
      ]
     },
     "execution_count": 27,
     "metadata": {},
     "output_type": "execute_result"
    }
   ],
   "source": [
    "#read dataframes\n",
    "professor_df=pd.read_csv('df_final.csv')\n",
    "comment_df=pd.read_csv('df_comments_final.csv')\n",
    "comment_df['Dates']=pd.to_datetime(comment_df.Dates, format='%Y-%m-%d')\n",
    "comment_df['Month']=comment_df['Dates'].dt.month\n",
    "\n",
    "comment_df['Month'].value_counts()\n",
    "comment_df"
   ]
  },
  {
   "cell_type": "code",
   "execution_count": 47,
   "id": "95a85c21",
   "metadata": {},
   "outputs": [],
   "source": [
    "def preprocess(text):\n",
    "    low_text= text.lower()\n",
    "    low_text = low_text.translate(str.maketrans('', '', string.punctuation))\n",
    "    tokens = nltk.word_tokenize(low_text)\n",
    "    porter = nltk.WordNetLemmatizer()\n",
    "    lemmatizer=[porter.lemmatize(t) for t in tokens]\n",
    "    stop_words_list = nltk.corpus.stopwords.words(\"english\")\n",
    "    sent_sw_removed = [i for i in lemmatizer if i not in stop_words_list]\n",
    "    lemmas=[i for i in sent_sw_removed if i!='br']\n",
    "    return lemmas # return a list of stems/lemmas"
   ]
  },
  {
   "cell_type": "code",
   "execution_count": 26,
   "id": "30e1b496",
   "metadata": {
    "scrolled": true
   },
   "outputs": [
    {
     "name": "stdout",
     "output_type": "stream",
     "text": [
      "<class 'pandas._libs.tslibs.timestamps.Timestamp'>\n"
     ]
    },
    {
     "data": {
      "text/plain": [
       "<AxesSubplot:xlabel='Month', ylabel='Density'>"
      ]
     },
     "execution_count": 26,
     "metadata": {},
     "output_type": "execute_result"
    },
    {
     "data": {
      "image/png": "[encoded data removed]",
      "text/plain": [
       "<Figure size 432x288 with 1 Axes>"
      ]
     },
     "metadata": {
      "needs_background": "light"
     },
     "output_type": "display_data"
    }
   ],
   "source": [
    "print(type(comment_df.Dates[0]))\n",
    "plt.figure()\n",
    "#plt.hist(comment_df.Quality)\n",
    "#plt.hist(comment_df.Difficulty)\n",
    "#sns.kdeplot(data=comment_df, x='Month') #antal reviews pr måned\n",
    "sns.kdeplot(data=comment_df, x='Month', hue='status')"
   ]
  },
  {
   "cell_type": "code",
   "execution_count": 48,
   "id": "2770f80b",
   "metadata": {},
   "outputs": [
    {
     "data": {
      "text/html": [
       "<div>\n",
       "<style scoped>\n",
       "    .dataframe tbody tr th:only-of-type {\n",
       "        vertical-align: middle;\n",
       "    }\n",
       "\n",
       "    .dataframe tbody tr th {\n",
       "        vertical-align: top;\n",
       "    }\n",
       "\n",
       "    .dataframe thead th {\n",
       "        text-align: right;\n",
       "    }\n",
       "</style>\n",
       "<table border=\"1\" class=\"dataframe\">\n",
       "  <thead>\n",
       "    <tr style=\"text-align: right;\">\n",
       "      <th></th>\n",
       "      <th>Unnamed: 0</th>\n",
       "      <th>Comments</th>\n",
       "      <th>Quality</th>\n",
       "      <th>Difficulty</th>\n",
       "      <th>Dates</th>\n",
       "      <th>TeacherID</th>\n",
       "      <th>SchoolID</th>\n",
       "      <th>status</th>\n",
       "      <th>Month</th>\n",
       "      <th>Clean_comment</th>\n",
       "    </tr>\n",
       "  </thead>\n",
       "  <tbody>\n",
       "  </tbody>\n",
       "</table>\n",
       "</div>"
      ],
      "text/plain": [
       "Empty DataFrame\n",
       "Columns: [Unnamed: 0, Comments, Quality, Difficulty, Dates, TeacherID, SchoolID, status, Month, Clean_comment]\n",
       "Index: []"
      ]
     },
     "execution_count": 48,
     "metadata": {},
     "output_type": "execute_result"
    }
   ],
   "source": [
    "comment_df[comment_df['Comments'].isna()]"
   ]
  },
  {
   "cell_type": "code",
   "execution_count": 69,
   "id": "c7872131",
   "metadata": {
    "scrolled": true
   },
   "outputs": [],
   "source": [
    "comment_df=comment_df[comment_df['Comments']!='No Comments'].dropna()\n",
    "comment_df['Clean_comment']=comment_df.apply(lambda row: preprocess(row.Comments), axis = 1)\n"
   ]
  },
  {
   "cell_type": "code",
   "execution_count": 93,
   "id": "03cc733b",
   "metadata": {},
   "outputs": [],
   "source": [
    "#sub_top.remove(['class', 'wa', 'professor', 'teacher'])\n",
    "sub_top\n"
   ]
  },
  {
   "cell_type": "code",
   "execution_count": 109,
   "id": "824bdb25",
   "metadata": {},
   "outputs": [],
   "source": [
    "top_uni=comment_df[comment_df['status']=='top']\n",
    "bottom_uni=comment_df[comment_df['status']=='bottom']\n",
    "sub_top=list(flatten(list(top_uni.Clean_comment)))\n",
    "sub_bottom=list(flatten(list(bottom_uni.Clean_comment)))\n",
    "\n",
    "\n",
    "sub_top_high=top_uni[top_uni.Quality>3]\n",
    "sub_top_low=top_uni[top_uni.Quality<3]\n",
    "sub_bottom_high=bottom_uni[bottom_uni.Quality>3]\n",
    "sub_bottom_low=bottom_uni[bottom_uni.Quality<3]\n",
    "\n",
    "hej=list(flatten(list(sub_top_high.Clean_comment)))\n",
    "lort=hej.remove('professor')\n",
    "lort"
   ]
  },
  {
   "cell_type": "code",
   "execution_count": 110,
   "id": "0ee40d3b",
   "metadata": {},
   "outputs": [
    {
     "data": {
      "text/plain": [
       "[]"
      ]
     },
     "execution_count": 110,
     "metadata": {},
     "output_type": "execute_result"
    }
   ],
   "source": [
    "top_count=Counter(sub_top).most_common(10)\n",
    "bottom_count=Counter(sub_bottom).most_common(10)\n",
    "\n",
    "Counter(lort).most_common(10) #top high\n",
    "#Counter(list(flatten(list(sub_top_low.Clean_comment)))).most_common(10) #top low\n",
    "#Counter(list(flatten(list(sub_bottom_high.Clean_comment)))).most_common(10) #bottom high\n",
    "#Counter(list(flatten(list(sub_bottom_low.Clean_comment)))).most_common(10) #bottom low\n"
   ]
  }
 ],
 "metadata": {
  "kernelspec": {
   "display_name": "Python 3 (ipykernel)",
   "language": "python",
   "name": "python3"
  },
  "language_info": {
   "codemirror_mode": {
    "name": "ipython",
    "version": 3
   },
   "file_extension": ".py",
   "mimetype": "text/x-python",
   "name": "python",
   "nbconvert_exporter": "python",
   "pygments_lexer": "ipython3",
   "version": "3.9.1"
  }
 },
 "nbformat": 4,
 "nbformat_minor": 5
}

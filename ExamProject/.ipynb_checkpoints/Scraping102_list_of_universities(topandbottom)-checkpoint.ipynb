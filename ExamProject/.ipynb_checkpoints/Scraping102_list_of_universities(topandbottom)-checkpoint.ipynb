{
 "cells": [
  {
   "cell_type": "code",
   "execution_count": 1,
   "id": "39a9da3a",
   "metadata": {},
   "outputs": [],
   "source": [
    "from bs4 import BeautifulSoup\n",
    "from selenium import webdriver\n",
    "from webdriver_manager.chrome import ChromeDriverManager\n",
    "import time\n",
    "from selenium.webdriver.support.ui import WebDriverWait\n",
    "from selenium.webdriver.support import expected_conditions as EC\n",
    "from selenium.webdriver.common.by import By\n",
    "import requests\n",
    "import re\n",
    "import selenium\n",
    "import pandas as pd\n",
    "import html5lib\n",
    "import math\n"
   ]
  },
  {
   "cell_type": "code",
   "execution_count": null,
   "id": "0bbf8aec",
   "metadata": {},
   "outputs": [
    {
     "name": "stderr",
     "output_type": "stream",
     "text": [
      "\n",
      "\n",
      "====== WebDriver manager ======\n",
      "Current google-chrome version is 92.0.4515\n",
      "Get LATEST driver version for 92.0.4515\n",
      "Driver [C:\\Users\\Liv Nøhr\\.wdm\\drivers\\chromedriver\\win32\\92.0.4515.107\\chromedriver.exe] found in cache\n",
      "\n",
      "\n",
      "====== WebDriver manager ======\n",
      "Current google-chrome version is 92.0.4515\n",
      "Get LATEST driver version for 92.0.4515\n",
      "Driver [C:\\Users\\Liv Nøhr\\.wdm\\drivers\\chromedriver\\win32\\92.0.4515.107\\chromedriver.exe] found in cache\n",
      "\n",
      "\n",
      "====== WebDriver manager ======\n",
      "Current google-chrome version is 92.0.4515\n",
      "Get LATEST driver version for 92.0.4515\n",
      "Driver [C:\\Users\\Liv Nøhr\\.wdm\\drivers\\chromedriver\\win32\\92.0.4515.107\\chromedriver.exe] found in cache\n",
      "\n",
      "\n",
      "====== WebDriver manager ======\n",
      "Current google-chrome version is 92.0.4515\n",
      "Get LATEST driver version for 92.0.4515\n",
      "Driver [C:\\Users\\Liv Nøhr\\.wdm\\drivers\\chromedriver\\win32\\92.0.4515.107\\chromedriver.exe] found in cache\n",
      "\n",
      "\n",
      "====== WebDriver manager ======\n",
      "Current google-chrome version is 92.0.4515\n",
      "Get LATEST driver version for 92.0.4515\n",
      "Driver [C:\\Users\\Liv Nøhr\\.wdm\\drivers\\chromedriver\\win32\\92.0.4515.107\\chromedriver.exe] found in cache\n",
      "\n",
      "\n",
      "====== WebDriver manager ======\n",
      "Current google-chrome version is 92.0.4515\n",
      "Get LATEST driver version for 92.0.4515\n",
      "Driver [C:\\Users\\Liv Nøhr\\.wdm\\drivers\\chromedriver\\win32\\92.0.4515.107\\chromedriver.exe] found in cache\n",
      "\n",
      "\n",
      "====== WebDriver manager ======\n",
      "Current google-chrome version is 92.0.4515\n",
      "Get LATEST driver version for 92.0.4515\n",
      "Driver [C:\\Users\\Liv Nøhr\\.wdm\\drivers\\chromedriver\\win32\\92.0.4515.107\\chromedriver.exe] found in cache\n"
     ]
    }
   ],
   "source": [
    "\"\"\" This cell will save name and ranking of American Universities from US News official \n",
    "ranking 2021 in a dataframe. From here, we can collect the top 10 universities, and draw a \n",
    "random 10 from the bottom 92 universities. \"\"\"\n",
    "\n",
    "ranking=[]\n",
    "name=[]\n",
    "\n",
    "# Create a request interceptor\n",
    "def interceptor(request):\n",
    "    del request.headers['Referer']  # Delete the header first\n",
    "    request.headers['Referer'] = 'For an exam at the university of copenhagen for the course ISDS'\n",
    "\n",
    "# Set the interceptor on the driver\n",
    "\n",
    "#Få den første\n",
    "for j in range(round(338/10)+1):\n",
    "    url = ('https://www.usnews.com/best-colleges/rankings/national-universities?_page=' + str(j+1))\n",
    "    driver = webdriver.Chrome(ChromeDriverManager().install())\n",
    "    driver.request_interceptor = interceptor\n",
    "    driver.get(url)\n",
    "    soup = BeautifulSoup(driver.page_source, 'lxml')\n",
    "    driver.close()\n",
    "    clasees = soup.findAll('div', {'class':'Box-w0dun1-0 DetailCardColleges__TextContainer-cecerc-4 CYZBT eoCwZT'})\n",
    "    class_name = soup.findAll('a', {'class':'Anchor-byh49a-0 DetailCardColleges__StyledAnchor-cecerc-7 fidpEI eKrerU card-name'})\n",
    "\n",
    "    for i in range(len(clasees)):\n",
    "        temp = clasees[i].text\n",
    "        ranking.append(re.findall('\\d+', temp)[0])\n",
    "        name.append(class_name[i].text.strip())\n",
    "\n",
    "df = pd.DataFrame(list(zip(ranking, name)),\n",
    "               columns =['Ranking', 'Name'])"
   ]
  },
  {
   "cell_type": "code",
   "execution_count": 15,
   "id": "dcdb1fcd",
   "metadata": {},
   "outputs": [
    {
     "name": "stdout",
     "output_type": "stream",
     "text": [
      "    Ranking                                       Name\n",
      "314     298                    Grand Canyon University\n",
      "330     298                  National Louis University\n",
      "311     298            East Tennessee State University\n",
      "328     298                  Missouri State University\n",
      "324     298                    Mary Baldwin University\n",
      "304     298                Cardinal Stritch University\n",
      "312     298                    Ferris State University\n",
      "337     298                          Regent University\n",
      "339     298  Southern Illinois University Edwardsville\n",
      "301     298                           Barry University\n"
     ]
    }
   ],
   "source": [
    "#Get subset with ranking 298 (there are 92)\n",
    "bottom_df = df[df[\"Ranking\"] == '298']\n",
    "\n",
    "#Draw a random 10\n",
    "ten_bottom = bottom_df.sample(10)\n",
    "\n",
    "print(ten_bottom)\n"
   ]
  }
 ],
 "metadata": {
  "kernelspec": {
   "display_name": "Python 3",
   "language": "python",
   "name": "python3"
  },
  "language_info": {
   "codemirror_mode": {
    "name": "ipython",
    "version": 3
   },
   "file_extension": ".py",
   "mimetype": "text/x-python",
   "name": "python",
   "nbconvert_exporter": "python",
   "pygments_lexer": "ipython3",
   "version": "3.8.8"
  }
 },
 "nbformat": 4,
 "nbformat_minor": 5
}

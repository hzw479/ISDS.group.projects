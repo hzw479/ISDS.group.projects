{
 "cells": [
  {
   "cell_type": "code",
   "execution_count": 1,
   "id": "44d94043",
   "metadata": {},
   "outputs": [
    {
     "name": "stderr",
     "output_type": "stream",
     "text": [
      "[nltk_data] Downloading package punkt to C:\\Users\\Liv\n",
      "[nltk_data]     Nøhr\\AppData\\Roaming\\nltk_data...\n",
      "[nltk_data]   Package punkt is already up-to-date!\n",
      "[nltk_data] Downloading package wordnet to C:\\Users\\Liv\n",
      "[nltk_data]     Nøhr\\AppData\\Roaming\\nltk_data...\n",
      "[nltk_data]   Package wordnet is already up-to-date!\n",
      "[nltk_data] Downloading package stopwords to C:\\Users\\Liv\n",
      "[nltk_data]     Nøhr\\AppData\\Roaming\\nltk_data...\n",
      "[nltk_data]   Package stopwords is already up-to-date!\n"
     ]
    }
   ],
   "source": [
    "import seaborn as sns\n",
    "\n",
    "from sklearn.model_selection import train_test_split\n",
    "\n",
    "# from the textbook, for printing a process bar.\n",
    "import pyprind\n",
    "\n",
    "# basic packages\n",
    "import pandas as pd\n",
    "import os\n",
    "import numpy as np\n",
    "import re # python regular expressions\n",
    "import string # for efficient operations with strings\n",
    "import matplotlib.pyplot as plt\n",
    "%matplotlib inline\n",
    "\n",
    "# For creating dictionaries that you can fill in a loop\n",
    "from collections import defaultdict\n",
    "\n",
    "# NLTK: A basic, popular NLP package. Find many examples of applications at https://www.nltk.org/book/\n",
    "# Install guide: https://www.nltk.org/install.html\n",
    "import nltk\n",
    "nltk.download('punkt') # you will probably need to do this\n",
    "nltk.download('wordnet') # and this\n",
    "nltk.download('stopwords') # aand this\n",
    "\n",
    "# for vectorization \n",
    "from sklearn.feature_extraction.text import CountVectorizer\n",
    "from sklearn.feature_extraction.text import TfidfVectorizer\n",
    "from sklearn.feature_extraction.text import TfidfTransformer\n",
    "\n",
    "#Vader Lexicon for sentiment analysis\n",
    "from vaderSentiment.vaderSentiment import SentimentIntensityAnalyzer\n",
    "\n",
    "# similarity/distance measures\n",
    "from scipy.spatial import distance\n",
    "from sklearn.metrics.pairwise import linear_kernel, cosine_similarity\n",
    "\n",
    "# for classification\n",
    "from sklearn.linear_model import LogisticRegression\n",
    "from sklearn.metrics import confusion_matrix\n",
    "from sklearn.model_selection import GridSearchCV\n",
    "from sklearn.pipeline import Pipeline\n",
    "\n",
    "# Lexicons for sentiment analysis\n",
    "from vaderSentiment import vaderSentiment\n",
    "from afinn import Afinn\n",
    "\n",
    "# to display images in notebook\n",
    "from IPython.display import Image"
   ]
  },
  {
   "cell_type": "code",
   "execution_count": 18,
   "id": "dc2d13d9",
   "metadata": {},
   "outputs": [
    {
     "data": {
      "text/html": [
       "<div>\n",
       "<style scoped>\n",
       "    .dataframe tbody tr th:only-of-type {\n",
       "        vertical-align: middle;\n",
       "    }\n",
       "\n",
       "    .dataframe tbody tr th {\n",
       "        vertical-align: top;\n",
       "    }\n",
       "\n",
       "    .dataframe thead th {\n",
       "        text-align: right;\n",
       "    }\n",
       "</style>\n",
       "<table border=\"1\" class=\"dataframe\">\n",
       "  <thead>\n",
       "    <tr style=\"text-align: right;\">\n",
       "      <th></th>\n",
       "      <th>Unnamed: 0</th>\n",
       "      <th>Comments</th>\n",
       "      <th>Quality</th>\n",
       "      <th>Difficulty</th>\n",
       "      <th>Dates</th>\n",
       "      <th>TeacherID</th>\n",
       "      <th>SchoolID</th>\n",
       "      <th>status</th>\n",
       "    </tr>\n",
       "  </thead>\n",
       "  <tbody>\n",
       "    <tr>\n",
       "      <th>0</th>\n",
       "      <td>0</td>\n",
       "      <td>Professor Acres is incredible--friendly, knowl...</td>\n",
       "      <td>5.0</td>\n",
       "      <td>4.0</td>\n",
       "      <td>2017-05-02</td>\n",
       "      <td>336888</td>\n",
       "      <td>780</td>\n",
       "      <td>top</td>\n",
       "    </tr>\n",
       "    <tr>\n",
       "      <th>1</th>\n",
       "      <td>1</td>\n",
       "      <td>He is an amazing professor- I definitely recom...</td>\n",
       "      <td>5.0</td>\n",
       "      <td>3.0</td>\n",
       "      <td>2017-04-28</td>\n",
       "      <td>336888</td>\n",
       "      <td>780</td>\n",
       "      <td>top</td>\n",
       "    </tr>\n",
       "    <tr>\n",
       "      <th>2</th>\n",
       "      <td>2</td>\n",
       "      <td>Great!</td>\n",
       "      <td>3.0</td>\n",
       "      <td>3.0</td>\n",
       "      <td>2012-03-23</td>\n",
       "      <td>336888</td>\n",
       "      <td>780</td>\n",
       "      <td>top</td>\n",
       "    </tr>\n",
       "    <tr>\n",
       "      <th>3</th>\n",
       "      <td>3</td>\n",
       "      <td>Awesome</td>\n",
       "      <td>5.0</td>\n",
       "      <td>1.0</td>\n",
       "      <td>2011-02-01</td>\n",
       "      <td>336888</td>\n",
       "      <td>780</td>\n",
       "      <td>top</td>\n",
       "    </tr>\n",
       "    <tr>\n",
       "      <th>4</th>\n",
       "      <td>4</td>\n",
       "      <td>Al is an absolutely great professor. His semin...</td>\n",
       "      <td>5.0</td>\n",
       "      <td>4.0</td>\n",
       "      <td>2007-10-21</td>\n",
       "      <td>336888</td>\n",
       "      <td>780</td>\n",
       "      <td>top</td>\n",
       "    </tr>\n",
       "    <tr>\n",
       "      <th>...</th>\n",
       "      <td>...</td>\n",
       "      <td>...</td>\n",
       "      <td>...</td>\n",
       "      <td>...</td>\n",
       "      <td>...</td>\n",
       "      <td>...</td>\n",
       "      <td>...</td>\n",
       "      <td>...</td>\n",
       "    </tr>\n",
       "    <tr>\n",
       "      <th>81712</th>\n",
       "      <td>81712</td>\n",
       "      <td>Difficult to understand and not very helpful. ...</td>\n",
       "      <td>1.5</td>\n",
       "      <td>3.0</td>\n",
       "      <td>2009-12-23</td>\n",
       "      <td>608528</td>\n",
       "      <td>4171</td>\n",
       "      <td>bottom</td>\n",
       "    </tr>\n",
       "    <tr>\n",
       "      <th>81713</th>\n",
       "      <td>81713</td>\n",
       "      <td>MUY MAL!! This teacher is unorganized and scat...</td>\n",
       "      <td>1.0</td>\n",
       "      <td>1.0</td>\n",
       "      <td>2005-12-22</td>\n",
       "      <td>608528</td>\n",
       "      <td>4171</td>\n",
       "      <td>bottom</td>\n",
       "    </tr>\n",
       "    <tr>\n",
       "      <th>81714</th>\n",
       "      <td>81714</td>\n",
       "      <td>very sweet disposition -- very willing to help...</td>\n",
       "      <td>5.0</td>\n",
       "      <td>1.0</td>\n",
       "      <td>2005-12-20</td>\n",
       "      <td>608528</td>\n",
       "      <td>4171</td>\n",
       "      <td>bottom</td>\n",
       "    </tr>\n",
       "    <tr>\n",
       "      <th>81715</th>\n",
       "      <td>81715</td>\n",
       "      <td>This professor is very helpful, wants her stud...</td>\n",
       "      <td>5.0</td>\n",
       "      <td>1.0</td>\n",
       "      <td>2005-09-06</td>\n",
       "      <td>608528</td>\n",
       "      <td>4171</td>\n",
       "      <td>bottom</td>\n",
       "    </tr>\n",
       "    <tr>\n",
       "      <th>81716</th>\n",
       "      <td>81716</td>\n",
       "      <td>This professor just rox.  She is in possession...</td>\n",
       "      <td>5.0</td>\n",
       "      <td>1.0</td>\n",
       "      <td>2005-04-29</td>\n",
       "      <td>608528</td>\n",
       "      <td>4171</td>\n",
       "      <td>bottom</td>\n",
       "    </tr>\n",
       "  </tbody>\n",
       "</table>\n",
       "<p>79793 rows × 8 columns</p>\n",
       "</div>"
      ],
      "text/plain": [
       "       Unnamed: 0                                           Comments  Quality  \\\n",
       "0               0  Professor Acres is incredible--friendly, knowl...      5.0   \n",
       "1               1  He is an amazing professor- I definitely recom...      5.0   \n",
       "2               2                                             Great!      3.0   \n",
       "3               3                                            Awesome      5.0   \n",
       "4               4  Al is an absolutely great professor. His semin...      5.0   \n",
       "...           ...                                                ...      ...   \n",
       "81712       81712  Difficult to understand and not very helpful. ...      1.5   \n",
       "81713       81713  MUY MAL!! This teacher is unorganized and scat...      1.0   \n",
       "81714       81714  very sweet disposition -- very willing to help...      5.0   \n",
       "81715       81715  This professor is very helpful, wants her stud...      5.0   \n",
       "81716       81716  This professor just rox.  She is in possession...      5.0   \n",
       "\n",
       "       Difficulty       Dates  TeacherID  SchoolID  status  \n",
       "0             4.0  2017-05-02     336888       780     top  \n",
       "1             3.0  2017-04-28     336888       780     top  \n",
       "2             3.0  2012-03-23     336888       780     top  \n",
       "3             1.0  2011-02-01     336888       780     top  \n",
       "4             4.0  2007-10-21     336888       780     top  \n",
       "...           ...         ...        ...       ...     ...  \n",
       "81712         3.0  2009-12-23     608528      4171  bottom  \n",
       "81713         1.0  2005-12-22     608528      4171  bottom  \n",
       "81714         1.0  2005-12-20     608528      4171  bottom  \n",
       "81715         1.0  2005-09-06     608528      4171  bottom  \n",
       "81716         1.0  2005-04-29     608528      4171  bottom  \n",
       "\n",
       "[79793 rows x 8 columns]"
      ]
     },
     "execution_count": 18,
     "metadata": {},
     "output_type": "execute_result"
    }
   ],
   "source": [
    "\n",
    "\n",
    "df_p = pd.read_csv('df_final.csv')\n",
    "df_c = pd.read_csv('df_comments_final.csv')\n",
    "df_c = df_c[df_c['Comments'] != 'No Comments']\n",
    "df_c['Comments'] = df_c['Comments'].dropna()\n",
    "\n",
    "df_c"
   ]
  },
  {
   "cell_type": "code",
   "execution_count": 5,
   "id": "1c013b6a",
   "metadata": {},
   "outputs": [
    {
     "name": "stdout",
     "output_type": "stream",
     "text": [
      "3.0646958011996572\n",
      "3.6752940718236347\n",
      "   status  Difficulty\n",
      "0  bottom    3.058657\n",
      "1     top    3.085095\n",
      "   status   Quality\n",
      "0  bottom  3.649276\n",
      "1     top  3.763188\n",
      "   status     len_col\n",
      "0  bottom  240.208517\n",
      "1     top  189.889530\n",
      "status\n",
      "bottom    61698\n",
      "top       18095\n",
      "dtype: int64\n"
     ]
    }
   ],
   "source": [
    "print(df_c[\"Difficulty\"].mean())\n",
    "print(df_c[\"Quality\"].mean())\n",
    "\n",
    "\n",
    "#Depending on school status\n",
    "\n",
    "print(df_c.groupby('status', as_index=False)['Difficulty'].mean())\n",
    "print(df_c.groupby('status', as_index=False)['Quality'].mean())\n",
    "\n",
    "#Make column with length of comments\n",
    "df_c['len_col'] = df_c['Comments'].str.len()\n",
    "\n",
    "print(df_c.groupby('status', as_index=False)['len_col'].mean())\n",
    "\n",
    "print(df_c.groupby('status').size())"
   ]
  },
  {
   "cell_type": "code",
   "execution_count": 6,
   "id": "34da4c49",
   "metadata": {},
   "outputs": [
    {
     "name": "stdout",
     "output_type": "stream",
     "text": [
      "   status   Quality\n",
      "0  bottom  2.179516\n",
      "1     top  2.209166\n",
      "   status  Difficulty\n",
      "0  bottom    1.553341\n",
      "1     top    1.526440\n"
     ]
    }
   ],
   "source": [
    "#See variance\n",
    "\n",
    "print(df_c.groupby('status', as_index=False)['Quality'].var())\n",
    "print(df_c.groupby('status', as_index=False)['Difficulty'].var())\n"
   ]
  },
  {
   "cell_type": "code",
   "execution_count": 7,
   "id": "cf9e3008",
   "metadata": {},
   "outputs": [
    {
     "data": {
      "text/plain": [
       "<AxesSubplot:xlabel='Quality', ylabel='count'>"
      ]
     },
     "execution_count": 7,
     "metadata": {},
     "output_type": "execute_result"
    },
    {
     "data": {
      "image/png": "[encoded data removed]",
      "text/plain": [
       "<Figure size 432x288 with 1 Axes>"
      ]
     },
     "metadata": {
      "needs_background": "light"
     },
     "output_type": "display_data"
    }
   ],
   "source": [
    "#sns.countplot(data=df_c, x='Difficulty')\n",
    "\n",
    "sns.countplot(data=df_c, x='Quality', hue = 'status')"
   ]
  },
  {
   "cell_type": "code",
   "execution_count": 86,
   "id": "7025c38e",
   "metadata": {},
   "outputs": [
    {
     "data": {
      "text/plain": [
       "<AxesSubplot:xlabel='year', ylabel='Comments'>"
      ]
     },
     "execution_count": 86,
     "metadata": {},
     "output_type": "execute_result"
    },
    {
     "data": {
      "image/png": "[encoded data removed]",
      "text/plain": [
       "<Figure size 432x288 with 1 Axes>"
      ]
     },
     "metadata": {
      "needs_background": "light"
     },
     "output_type": "display_data"
    }
   ],
   "source": [
    "import datetime\n",
    "\n",
    "df_c['year'] = df_c['Dates'].str[2:4]\n",
    "\n",
    "statgrouped = df_c.groupby([\"status\", \"year\"]).count()\n",
    "\n",
    "statgrouped =statgrouped.groupby(level=[0]).apply(lambda g: g / g.sum())\n",
    "statgrouped=statgrouped.reset_index()\n",
    "\n",
    "statgrouped\n",
    "\n",
    "sns.barplot(data=statgrouped, x='year', y='Comments', hue = 'status')\n",
    "\n",
    "\n"
   ]
  },
  {
   "cell_type": "code",
   "execution_count": null,
   "id": "f1e40abe",
   "metadata": {},
   "outputs": [],
   "source": [
    "with open('STOPlist.txt') as f:\n",
    "    stoppelop = f.read().splitlines()\n",
    "stoppelop\n"
   ]
  },
  {
   "cell_type": "code",
   "execution_count": 93,
   "id": "8d6804f7",
   "metadata": {},
   "outputs": [],
   "source": [
    "def preprocess(text):\n",
    "    low_text= text.lower()\n",
    "    low_text = low_text.translate(str.maketrans('', '', string.punctuation))\n",
    "    tokens = nltk.word_tokenize(low_text)\n",
    "    porter = nltk.WordNetLemmatizer()\n",
    "    lemmatizer=[porter.lemmatize(t) for t in tokens]\n",
    "    stop_words_list = stoppelop\n",
    "    sent_sw_removed = [i for i in lemmatizer if i not in stop_words_list]\n",
    "    lemmas=[i for i in sent_sw_removed if i!='br']\n",
    "    return lemmas # return a list of stems/lemmas"
   ]
  },
  {
   "cell_type": "code",
   "execution_count": 20,
   "id": "c9b76a50",
   "metadata": {},
   "outputs": [],
   "source": [
    "df_c=df_c[df_c['Comments']!='No Comments'].dropna()\n",
    "\n",
    "df_c['Clean_comment']=df_c.apply(lambda row: preprocess(row.Comments), axis = 1)"
   ]
  },
  {
   "cell_type": "code",
   "execution_count": 30,
   "id": "2a66fbd6",
   "metadata": {},
   "outputs": [],
   "source": [
    "X = df_c['Comments']\n",
    "\n",
    "y = df_c['Quality']\n",
    "\n",
    "X_train, X_test, y_train, y_test = train_test_split(X, y, random_state=161193)\n",
    "\n",
    "\n",
    "# CountVectorizer (from sklearn.feature_extraction.text) has a build-in tokenizer and lowercases by default. It also has an option to remove stopwords (look at the documentation).\n",
    "vectorizer = CountVectorizer()\n",
    "\n",
    "# You can override the default tokenization with your own defined function, like so:\n",
    "vectorizer = CountVectorizer(tokenizer=preprocess)\n",
    "\n",
    "# you can also restrict the number of features to the top N most frequent features:\n",
    "#vectorizer = CountVectorizer(max_features=N)\n",
    "\n",
    "# fit and transform train set\n",
    "X_train_bow = vectorizer.fit_transform(X_train)\n",
    "\n",
    "# Only tranform test set: never fit your vectorizer on the test set (it is cheating). Out-of-Vocabulary words are handled automatically be sklearn's vectorizer.\n",
    "X_test_bow = vectorizer.transform(X_test)"
   ]
  },
  {
   "cell_type": "code",
   "execution_count": 31,
   "id": "adb15951",
   "metadata": {},
   "outputs": [
    {
     "name": "stdout",
     "output_type": "stream",
     "text": [
      "(57654, 32583)\n",
      "32583\n"
     ]
    },
    {
     "data": {
      "text/plain": [
       "<1x32583 sparse matrix of type '<class 'numpy.int64'>'\n",
       "\twith 16 stored elements in Compressed Sparse Row format>"
      ]
     },
     "execution_count": 31,
     "metadata": {},
     "output_type": "execute_result"
    }
   ],
   "source": [
    "print(X_train_bow.shape)\n",
    "print(len(vectorizer.vocabulary_))\n",
    "X_train_bow[0]"
   ]
  },
  {
   "cell_type": "code",
   "execution_count": 36,
   "id": "390a885e",
   "metadata": {},
   "outputs": [
    {
     "name": "stdout",
     "output_type": "stream",
     "text": [
      "  (0, 25227)\t1\n",
      "  (0, 13553)\t1\n",
      "  (0, 24086)\t1\n",
      "  (0, 28582)\t1\n",
      "  (0, 5929)\t2\n",
      "  (0, 28420)\t3\n",
      "  (0, 31980)\t1\n",
      "  (0, 16024)\t1\n",
      "  (0, 31154)\t2\n",
      "  (0, 3915)\t1\n",
      "  (0, 20101)\t1\n",
      "  (0, 13844)\t1\n",
      "  (0, 22285)\t1\n",
      "  (0, 28459)\t1\n",
      "  (0, 22749)\t1\n",
      "  (0, 12759)\t1\n",
      "helpful\n"
     ]
    }
   ],
   "source": [
    "X_train_bow[0].toarray() # the vector is very sparse..\n",
    "print(X_train_bow[0]) # here we take a look at the non-zero elements. \n",
    "#The first element is the word with ID 25459, which appears two times in the text.\n",
    "print(vectorizer.get_feature_names()[13844]) # this is one way to get the word with the ID 25459"
   ]
  },
  {
   "cell_type": "code",
   "execution_count": 48,
   "id": "fc3aaaf7",
   "metadata": {},
   "outputs": [],
   "source": [
    "##TF_IDF\n",
    "\n",
    "tfidf = TfidfVectorizer()\n",
    "X_train_tfidf = tfidf.fit_transform(X_train)"
   ]
  },
  {
   "cell_type": "code",
   "execution_count": 62,
   "id": "c5279f34",
   "metadata": {},
   "outputs": [
    {
     "name": "stdout",
     "output_type": "stream",
     "text": [
      "most similar: [  100 55483 57563 37648 11135 22220  4948  3379 23069 35121]\n",
      "least similar [ 2901 15920 34930 15907 34976 44921 53515 34989 52065]\n"
     ]
    }
   ],
   "source": [
    "cosine_similarities = cosine_similarity(X_train_tfidf[100], X_train_tfidf).flatten()\n",
    "\n",
    "indices = cosine_similarities.argsort()[::-1] # in descending order \n",
    "print(\"most similar:\",indices[:10])\n",
    "print(\"least similar\", indices[-9:])"
   ]
  },
  {
   "cell_type": "code",
   "execution_count": 66,
   "id": "7c9a7def",
   "metadata": {},
   "outputs": [
    {
     "name": "stdout",
     "output_type": "stream",
     "text": [
      "Professor Brinton was an amazing professor and really helped me through the class. He was readily available for questions and puts a lot of time into his courses. I would highly recommend him if you have the opportunity to take one of his classes.\n",
      "\n",
      "most similar:  Marcus was very helpful when i was confused.  Great teacher to have.\n",
      "\n",
      "least similar:  Great. Very well-read and informed. Brings a global perspective to his class which most Americans do not.\n"
     ]
    }
   ],
   "source": [
    "print(X_train[100])\n",
    "print()\n",
    "print(\"most similar: \", X_train[55483  ])\n",
    "print()\n",
    "print(\"least similar: \", X_train[2901  ])"
   ]
  },
  {
   "cell_type": "code",
   "execution_count": 74,
   "id": "52c0a38c",
   "metadata": {},
   "outputs": [],
   "source": [
    "from gensim.models import Word2Vec\n",
    "\n",
    "\n",
    "X = df_c['Clean_comment']\n",
    "\n",
    "y = df_c['Quality']\n",
    "\n",
    "X_train, X_test, y_train, y_test = train_test_split(X, y, random_state=161193)\n",
    "\n",
    "\n",
    "# using the train_sents from earlier (the lowercased and tokenized sentences)\n",
    "model = Word2Vec(X_train, vector_size=50)#the default learning algorithm is CBOW. To use skip-gram use the paramter sg=1.\n",
    "\n",
    "# You can load pretrained embeddings downloaded from: https://drive.google.com/file/d/0B7XkCwpI5KDYNlNUTTlSS21pQmM/edit?usp=sharing \n",
    "# BUT this takes up a lot of space (the file is over 1 GB) and a lot of RAM when you try to use it.\n",
    "# If you want to try it, write this:\n",
    "#model = gensim.models.KeyedVectors.load_word2vec_format(directory_path+'GoogleNews-vectors-negative300.bin', binary=True)\n"
   ]
  },
  {
   "cell_type": "code",
   "execution_count": 77,
   "id": "b2febb04",
   "metadata": {},
   "outputs": [
    {
     "data": {
      "text/plain": [
       "array([-0.3427301 ,  1.6213628 ,  0.18186499, -0.6462621 ,  0.19362907,\n",
       "       -1.1867796 ,  2.288043  , -0.22551453,  2.7086349 ,  0.43891525,\n",
       "        2.292423  , -0.9978531 ,  1.0667039 ,  0.7378389 ,  0.45770636,\n",
       "        1.1756386 ,  0.5812719 ,  0.38641572, -2.8912237 , -1.594051  ,\n",
       "        1.8976976 ,  0.00520311,  1.3018486 ,  0.22148238, -0.9200242 ,\n",
       "       -0.12997903,  1.2154835 ,  1.8347392 ,  0.01004102, -0.37225938,\n",
       "       -1.2753783 , -1.0325412 ,  1.5503664 , -0.51728296,  0.36603075,\n",
       "        0.7540513 ,  0.63373584, -0.46928576, -0.09215516,  2.1362817 ,\n",
       "        0.10410433, -0.05551953,  0.3986686 , -1.0420195 ,  2.4545798 ,\n",
       "       -0.7012055 , -0.49838266, -0.7577969 ,  0.7570233 ,  0.20809633],\n",
       "      dtype=float32)"
      ]
     },
     "execution_count": 77,
     "metadata": {},
     "output_type": "execute_result"
    }
   ],
   "source": [
    "model.wv['professor']"
   ]
  },
  {
   "cell_type": "code",
   "execution_count": 82,
   "id": "edb00ab7",
   "metadata": {},
   "outputs": [
    {
     "data": {
      "image/png": "[encoded data removed]",
      "text/plain": [
       "<Figure size 432x432 with 1 Axes>"
      ]
     },
     "metadata": {
      "needs_background": "light"
     },
     "output_type": "display_data"
    }
   ],
   "source": [
    "# Reducing the 50-dimensional vectors to 2 dimensions in order to visualise selected words.\n",
    "from sklearn.decomposition import PCA\n",
    "\n",
    "words = [\"test\",\"easy\", \"teacher\", \"ta\", \"bad\", \"horrible\", \"time\", \"expensive\", \"hot\", \"never\"]\n",
    "\n",
    "X = [model.wv['test'], model.wv['easy'], \n",
    "     model.wv['teacher'], model.wv['ta'], \n",
    "     model.wv['bad'], model.wv['horrible'], \n",
    "     model.wv['time'], model.wv['expensive'],\n",
    "     model.wv['hot'], model.wv['never']]\n",
    "\n",
    "pca = PCA(n_components=2)\n",
    "X_r = pca.fit(X).transform(X)\n",
    "\n",
    "plt.figure(figsize=(6,6))\n",
    "plt.scatter(X_r[:,0], X_r[:,1], edgecolors='k', c='r')\n",
    "for word, (x,y) in zip(words, X_r):\n",
    "    plt.text(x+0.2, y+0.1, word)"
   ]
  },
  {
   "cell_type": "code",
   "execution_count": 84,
   "id": "258c72d9",
   "metadata": {},
   "outputs": [
    {
     "name": "stderr",
     "output_type": "stream",
     "text": [
      "C:\\ProgramData\\Anaconda3\\lib\\site-packages\\numpy\\core\\fromnumeric.py:3419: RuntimeWarning: Mean of empty slice.\n",
      "  return _methods._mean(a, axis=axis, dtype=dtype,\n",
      "C:\\ProgramData\\Anaconda3\\lib\\site-packages\\numpy\\core\\_methods.py:188: RuntimeWarning: invalid value encountered in double_scalars\n",
      "  ret = ret.dtype.type(ret / rcount)\n",
      "<ipython-input-84-a7855ecdb29a>:3: VisibleDeprecationWarning: Creating an ndarray from ragged nested sequences (which is a list-or-tuple of lists-or-tuples-or ndarrays with different lengths or shapes) is deprecated. If you meant to do this, you must specify 'dtype=object' when creating the ndarray.\n",
      "  embedded_text = np.array([np.mean([model.wv[w] if w in model.wv.key_to_index.keys() else np.zeros(50) for w in words], axis=0) for words in X_train])\n"
     ]
    },
    {
     "ename": "ValueError",
     "evalue": "setting an array element with a sequence.",
     "output_type": "error",
     "traceback": [
      "\u001b[1;31m---------------------------------------------------------------------------\u001b[0m",
      "\u001b[1;31mTypeError\u001b[0m                                 Traceback (most recent call last)",
      "\u001b[1;31mTypeError\u001b[0m: only size-1 arrays can be converted to Python scalars",
      "\nThe above exception was the direct cause of the following exception:\n",
      "\u001b[1;31mValueError\u001b[0m                                Traceback (most recent call last)",
      "\u001b[1;32m<ipython-input-84-a7855ecdb29a>\u001b[0m in \u001b[0;36m<module>\u001b[1;34m\u001b[0m\n\u001b[0;32m      5\u001b[0m \u001b[1;33m\u001b[0m\u001b[0m\n\u001b[0;32m      6\u001b[0m \u001b[1;31m# Using the averaged word2vec document embeddings to find similar documents:\u001b[0m\u001b[1;33m\u001b[0m\u001b[1;33m\u001b[0m\u001b[1;33m\u001b[0m\u001b[0m\n\u001b[1;32m----> 7\u001b[1;33m \u001b[0mcosine_similarities\u001b[0m \u001b[1;33m=\u001b[0m \u001b[0mcosine_similarity\u001b[0m\u001b[1;33m(\u001b[0m\u001b[0membedded_text\u001b[0m\u001b[1;33m[\u001b[0m\u001b[1;36m0\u001b[0m\u001b[1;33m]\u001b[0m\u001b[1;33m.\u001b[0m\u001b[0mreshape\u001b[0m\u001b[1;33m(\u001b[0m\u001b[1;36m1\u001b[0m\u001b[1;33m,\u001b[0m\u001b[1;36m50\u001b[0m\u001b[1;33m)\u001b[0m\u001b[1;33m,\u001b[0m \u001b[0membedded_text\u001b[0m\u001b[1;33m[\u001b[0m\u001b[1;33m:\u001b[0m\u001b[1;33m]\u001b[0m\u001b[1;33m)\u001b[0m\u001b[1;33m.\u001b[0m\u001b[0mflatten\u001b[0m\u001b[1;33m(\u001b[0m\u001b[1;33m)\u001b[0m\u001b[1;33m\u001b[0m\u001b[1;33m\u001b[0m\u001b[0m\n\u001b[0m\u001b[0;32m      8\u001b[0m \u001b[0mindices\u001b[0m \u001b[1;33m=\u001b[0m \u001b[0mcosine_similarities\u001b[0m\u001b[1;33m.\u001b[0m\u001b[0margsort\u001b[0m\u001b[1;33m(\u001b[0m\u001b[1;33m)\u001b[0m\u001b[1;33m[\u001b[0m\u001b[1;33m:\u001b[0m\u001b[1;33m:\u001b[0m\u001b[1;33m-\u001b[0m\u001b[1;36m1\u001b[0m\u001b[1;33m]\u001b[0m \u001b[1;31m# in descending order\u001b[0m\u001b[1;33m\u001b[0m\u001b[1;33m\u001b[0m\u001b[0m\n\u001b[0;32m      9\u001b[0m \u001b[0mprint\u001b[0m\u001b[1;33m(\u001b[0m\u001b[1;34m\"most similar:\"\u001b[0m\u001b[1;33m,\u001b[0m\u001b[0mindices\u001b[0m\u001b[1;33m[\u001b[0m\u001b[1;33m:\u001b[0m\u001b[1;36m10\u001b[0m\u001b[1;33m]\u001b[0m\u001b[1;33m)\u001b[0m\u001b[1;33m\u001b[0m\u001b[1;33m\u001b[0m\u001b[0m\n",
      "\u001b[1;32mC:\\ProgramData\\Anaconda3\\lib\\site-packages\\sklearn\\metrics\\pairwise.py\u001b[0m in \u001b[0;36mcosine_similarity\u001b[1;34m(X, Y, dense_output)\u001b[0m\n\u001b[0;32m   1178\u001b[0m     \u001b[1;31m# to avoid recursive import\u001b[0m\u001b[1;33m\u001b[0m\u001b[1;33m\u001b[0m\u001b[1;33m\u001b[0m\u001b[0m\n\u001b[0;32m   1179\u001b[0m \u001b[1;33m\u001b[0m\u001b[0m\n\u001b[1;32m-> 1180\u001b[1;33m     \u001b[0mX\u001b[0m\u001b[1;33m,\u001b[0m \u001b[0mY\u001b[0m \u001b[1;33m=\u001b[0m \u001b[0mcheck_pairwise_arrays\u001b[0m\u001b[1;33m(\u001b[0m\u001b[0mX\u001b[0m\u001b[1;33m,\u001b[0m \u001b[0mY\u001b[0m\u001b[1;33m)\u001b[0m\u001b[1;33m\u001b[0m\u001b[1;33m\u001b[0m\u001b[0m\n\u001b[0m\u001b[0;32m   1181\u001b[0m \u001b[1;33m\u001b[0m\u001b[0m\n\u001b[0;32m   1182\u001b[0m     \u001b[0mX_normalized\u001b[0m \u001b[1;33m=\u001b[0m \u001b[0mnormalize\u001b[0m\u001b[1;33m(\u001b[0m\u001b[0mX\u001b[0m\u001b[1;33m,\u001b[0m \u001b[0mcopy\u001b[0m\u001b[1;33m=\u001b[0m\u001b[1;32mTrue\u001b[0m\u001b[1;33m)\u001b[0m\u001b[1;33m\u001b[0m\u001b[1;33m\u001b[0m\u001b[0m\n",
      "\u001b[1;32mC:\\ProgramData\\Anaconda3\\lib\\site-packages\\sklearn\\utils\\validation.py\u001b[0m in \u001b[0;36minner_f\u001b[1;34m(*args, **kwargs)\u001b[0m\n\u001b[0;32m     61\u001b[0m             \u001b[0mextra_args\u001b[0m \u001b[1;33m=\u001b[0m \u001b[0mlen\u001b[0m\u001b[1;33m(\u001b[0m\u001b[0margs\u001b[0m\u001b[1;33m)\u001b[0m \u001b[1;33m-\u001b[0m \u001b[0mlen\u001b[0m\u001b[1;33m(\u001b[0m\u001b[0mall_args\u001b[0m\u001b[1;33m)\u001b[0m\u001b[1;33m\u001b[0m\u001b[1;33m\u001b[0m\u001b[0m\n\u001b[0;32m     62\u001b[0m             \u001b[1;32mif\u001b[0m \u001b[0mextra_args\u001b[0m \u001b[1;33m<=\u001b[0m \u001b[1;36m0\u001b[0m\u001b[1;33m:\u001b[0m\u001b[1;33m\u001b[0m\u001b[1;33m\u001b[0m\u001b[0m\n\u001b[1;32m---> 63\u001b[1;33m                 \u001b[1;32mreturn\u001b[0m \u001b[0mf\u001b[0m\u001b[1;33m(\u001b[0m\u001b[1;33m*\u001b[0m\u001b[0margs\u001b[0m\u001b[1;33m,\u001b[0m \u001b[1;33m**\u001b[0m\u001b[0mkwargs\u001b[0m\u001b[1;33m)\u001b[0m\u001b[1;33m\u001b[0m\u001b[1;33m\u001b[0m\u001b[0m\n\u001b[0m\u001b[0;32m     64\u001b[0m \u001b[1;33m\u001b[0m\u001b[0m\n\u001b[0;32m     65\u001b[0m             \u001b[1;31m# extra_args > 0\u001b[0m\u001b[1;33m\u001b[0m\u001b[1;33m\u001b[0m\u001b[1;33m\u001b[0m\u001b[0m\n",
      "\u001b[1;32mC:\\ProgramData\\Anaconda3\\lib\\site-packages\\sklearn\\metrics\\pairwise.py\u001b[0m in \u001b[0;36mcheck_pairwise_arrays\u001b[1;34m(X, Y, precomputed, dtype, accept_sparse, force_all_finite, copy)\u001b[0m\n\u001b[0;32m    147\u001b[0m                         \u001b[0mcopy\u001b[0m\u001b[1;33m=\u001b[0m\u001b[0mcopy\u001b[0m\u001b[1;33m,\u001b[0m \u001b[0mforce_all_finite\u001b[0m\u001b[1;33m=\u001b[0m\u001b[0mforce_all_finite\u001b[0m\u001b[1;33m,\u001b[0m\u001b[1;33m\u001b[0m\u001b[1;33m\u001b[0m\u001b[0m\n\u001b[0;32m    148\u001b[0m                         estimator=estimator)\n\u001b[1;32m--> 149\u001b[1;33m         Y = check_array(Y, accept_sparse=accept_sparse, dtype=dtype,\n\u001b[0m\u001b[0;32m    150\u001b[0m                         \u001b[0mcopy\u001b[0m\u001b[1;33m=\u001b[0m\u001b[0mcopy\u001b[0m\u001b[1;33m,\u001b[0m \u001b[0mforce_all_finite\u001b[0m\u001b[1;33m=\u001b[0m\u001b[0mforce_all_finite\u001b[0m\u001b[1;33m,\u001b[0m\u001b[1;33m\u001b[0m\u001b[1;33m\u001b[0m\u001b[0m\n\u001b[0;32m    151\u001b[0m                         estimator=estimator)\n",
      "\u001b[1;32mC:\\ProgramData\\Anaconda3\\lib\\site-packages\\sklearn\\utils\\validation.py\u001b[0m in \u001b[0;36minner_f\u001b[1;34m(*args, **kwargs)\u001b[0m\n\u001b[0;32m     61\u001b[0m             \u001b[0mextra_args\u001b[0m \u001b[1;33m=\u001b[0m \u001b[0mlen\u001b[0m\u001b[1;33m(\u001b[0m\u001b[0margs\u001b[0m\u001b[1;33m)\u001b[0m \u001b[1;33m-\u001b[0m \u001b[0mlen\u001b[0m\u001b[1;33m(\u001b[0m\u001b[0mall_args\u001b[0m\u001b[1;33m)\u001b[0m\u001b[1;33m\u001b[0m\u001b[1;33m\u001b[0m\u001b[0m\n\u001b[0;32m     62\u001b[0m             \u001b[1;32mif\u001b[0m \u001b[0mextra_args\u001b[0m \u001b[1;33m<=\u001b[0m \u001b[1;36m0\u001b[0m\u001b[1;33m:\u001b[0m\u001b[1;33m\u001b[0m\u001b[1;33m\u001b[0m\u001b[0m\n\u001b[1;32m---> 63\u001b[1;33m                 \u001b[1;32mreturn\u001b[0m \u001b[0mf\u001b[0m\u001b[1;33m(\u001b[0m\u001b[1;33m*\u001b[0m\u001b[0margs\u001b[0m\u001b[1;33m,\u001b[0m \u001b[1;33m**\u001b[0m\u001b[0mkwargs\u001b[0m\u001b[1;33m)\u001b[0m\u001b[1;33m\u001b[0m\u001b[1;33m\u001b[0m\u001b[0m\n\u001b[0m\u001b[0;32m     64\u001b[0m \u001b[1;33m\u001b[0m\u001b[0m\n\u001b[0;32m     65\u001b[0m             \u001b[1;31m# extra_args > 0\u001b[0m\u001b[1;33m\u001b[0m\u001b[1;33m\u001b[0m\u001b[1;33m\u001b[0m\u001b[0m\n",
      "\u001b[1;32mC:\\ProgramData\\Anaconda3\\lib\\site-packages\\sklearn\\utils\\validation.py\u001b[0m in \u001b[0;36mcheck_array\u001b[1;34m(array, accept_sparse, accept_large_sparse, dtype, order, copy, force_all_finite, ensure_2d, allow_nd, ensure_min_samples, ensure_min_features, estimator)\u001b[0m\n\u001b[0;32m    614\u001b[0m                     \u001b[0marray\u001b[0m \u001b[1;33m=\u001b[0m \u001b[0marray\u001b[0m\u001b[1;33m.\u001b[0m\u001b[0mastype\u001b[0m\u001b[1;33m(\u001b[0m\u001b[0mdtype\u001b[0m\u001b[1;33m,\u001b[0m \u001b[0mcasting\u001b[0m\u001b[1;33m=\u001b[0m\u001b[1;34m\"unsafe\"\u001b[0m\u001b[1;33m,\u001b[0m \u001b[0mcopy\u001b[0m\u001b[1;33m=\u001b[0m\u001b[1;32mFalse\u001b[0m\u001b[1;33m)\u001b[0m\u001b[1;33m\u001b[0m\u001b[1;33m\u001b[0m\u001b[0m\n\u001b[0;32m    615\u001b[0m                 \u001b[1;32melse\u001b[0m\u001b[1;33m:\u001b[0m\u001b[1;33m\u001b[0m\u001b[1;33m\u001b[0m\u001b[0m\n\u001b[1;32m--> 616\u001b[1;33m                     \u001b[0marray\u001b[0m \u001b[1;33m=\u001b[0m \u001b[0mnp\u001b[0m\u001b[1;33m.\u001b[0m\u001b[0masarray\u001b[0m\u001b[1;33m(\u001b[0m\u001b[0marray\u001b[0m\u001b[1;33m,\u001b[0m \u001b[0morder\u001b[0m\u001b[1;33m=\u001b[0m\u001b[0morder\u001b[0m\u001b[1;33m,\u001b[0m \u001b[0mdtype\u001b[0m\u001b[1;33m=\u001b[0m\u001b[0mdtype\u001b[0m\u001b[1;33m)\u001b[0m\u001b[1;33m\u001b[0m\u001b[1;33m\u001b[0m\u001b[0m\n\u001b[0m\u001b[0;32m    617\u001b[0m             \u001b[1;32mexcept\u001b[0m \u001b[0mComplexWarning\u001b[0m \u001b[1;32mas\u001b[0m \u001b[0mcomplex_warning\u001b[0m\u001b[1;33m:\u001b[0m\u001b[1;33m\u001b[0m\u001b[1;33m\u001b[0m\u001b[0m\n\u001b[0;32m    618\u001b[0m                 raise ValueError(\"Complex data not supported\\n\"\n",
      "\u001b[1;32mC:\\ProgramData\\Anaconda3\\lib\\site-packages\\numpy\\core\\_asarray.py\u001b[0m in \u001b[0;36masarray\u001b[1;34m(a, dtype, order, like)\u001b[0m\n\u001b[0;32m    100\u001b[0m         \u001b[1;32mreturn\u001b[0m \u001b[0m_asarray_with_like\u001b[0m\u001b[1;33m(\u001b[0m\u001b[0ma\u001b[0m\u001b[1;33m,\u001b[0m \u001b[0mdtype\u001b[0m\u001b[1;33m=\u001b[0m\u001b[0mdtype\u001b[0m\u001b[1;33m,\u001b[0m \u001b[0morder\u001b[0m\u001b[1;33m=\u001b[0m\u001b[0morder\u001b[0m\u001b[1;33m,\u001b[0m \u001b[0mlike\u001b[0m\u001b[1;33m=\u001b[0m\u001b[0mlike\u001b[0m\u001b[1;33m)\u001b[0m\u001b[1;33m\u001b[0m\u001b[1;33m\u001b[0m\u001b[0m\n\u001b[0;32m    101\u001b[0m \u001b[1;33m\u001b[0m\u001b[0m\n\u001b[1;32m--> 102\u001b[1;33m     \u001b[1;32mreturn\u001b[0m \u001b[0marray\u001b[0m\u001b[1;33m(\u001b[0m\u001b[0ma\u001b[0m\u001b[1;33m,\u001b[0m \u001b[0mdtype\u001b[0m\u001b[1;33m,\u001b[0m \u001b[0mcopy\u001b[0m\u001b[1;33m=\u001b[0m\u001b[1;32mFalse\u001b[0m\u001b[1;33m,\u001b[0m \u001b[0morder\u001b[0m\u001b[1;33m=\u001b[0m\u001b[0morder\u001b[0m\u001b[1;33m)\u001b[0m\u001b[1;33m\u001b[0m\u001b[1;33m\u001b[0m\u001b[0m\n\u001b[0m\u001b[0;32m    103\u001b[0m \u001b[1;33m\u001b[0m\u001b[0m\n\u001b[0;32m    104\u001b[0m \u001b[1;33m\u001b[0m\u001b[0m\n",
      "\u001b[1;31mValueError\u001b[0m: setting an array element with a sequence."
     ]
    }
   ],
   "source": [
    "###SE PÅ SENERE\n",
    "\n",
    "embedded_text = np.array([np.mean([model.wv[w] if w in model.wv.key_to_index.keys() else np.zeros(50) for w in words], axis=0) for words in X_train])\n",
    "\n",
    "\n",
    "# Using the averaged word2vec document embeddings to find similar documents:\n",
    "cosine_similarities = cosine_similarity(embedded_text[0].reshape(1,50), embedded_text[:]).flatten()\n",
    "indices = cosine_similarities.argsort()[::-1] # in descending order \n",
    "print(\"most similar:\",indices[:10])\n",
    "print(\"least similar\", indices[-9:])\n",
    "print(X_train[0])\n",
    "print()\n",
    "print(\"most similar: \", X_train[5052])\n",
    "print()\n",
    "print(\"least similar: \", X_train[22007])"
   ]
  },
  {
   "cell_type": "code",
   "execution_count": 100,
   "id": "6939314a",
   "metadata": {},
   "outputs": [
    {
     "name": "stdout",
     "output_type": "stream",
     "text": [
      "76872\n",
      "76872\n"
     ]
    }
   ],
   "source": [
    "y = np.where(df_c['Quality']>=3.5, 'good', 'bad')\n",
    "\n",
    "X = df_c['Comments']\n",
    "\n",
    "np.where(df_c['Quality']>=3.5, 'good', 'bad')\n",
    "   \n",
    "\n",
    "print(len(y))\n",
    "print(len(X))\n",
    "X_train, X_test, y_train, y_test = train_test_split(X, y, random_state=161193)"
   ]
  },
  {
   "cell_type": "code",
   "execution_count": 102,
   "id": "a70e47ca",
   "metadata": {},
   "outputs": [
    {
     "name": "stdout",
     "output_type": "stream",
     "text": [
      "training accuracy: 0.8362646130363895\n",
      "testing accuracy: 0.8092933707982101\n"
     ]
    },
    {
     "name": "stderr",
     "output_type": "stream",
     "text": [
      "C:\\ProgramData\\Anaconda3\\lib\\site-packages\\sklearn\\linear_model\\_logistic.py:763: ConvergenceWarning: lbfgs failed to converge (status=1):\n",
      "STOP: TOTAL NO. of ITERATIONS REACHED LIMIT.\n",
      "\n",
      "Increase the number of iterations (max_iter) or scale the data as shown in:\n",
      "    https://scikit-learn.org/stable/modules/preprocessing.html\n",
      "Please also refer to the documentation for alternative solver options:\n",
      "    https://scikit-learn.org/stable/modules/linear_model.html#logistic-regression\n",
      "  n_iter_i = _check_optimize_result(\n"
     ]
    }
   ],
   "source": [
    "# Get feature vectors\n",
    "tfidf = TfidfVectorizer()\n",
    "# use your own preprocessing function in the vectorizer when you've finished that exercise:\n",
    "#tfidf = TfidfVectorizer(tokenizer=preprocess)\n",
    "X_train_tfidf = tfidf.fit_transform(X_train)\n",
    "X_test_tfidf = tfidf.transform(X_test)\n",
    "\n",
    "# labels\n",
    "y_train = y_train\n",
    "y_test = y_test\n",
    "\n",
    "# classifier\n",
    "lr = LogisticRegression(random_state=0)\n",
    "\n",
    "#training\n",
    "lr.fit(X_train_tfidf,y_train)\n",
    "\n",
    "#testing\n",
    "train_preds = lr.predict(X_train_tfidf)\n",
    "test_preds = lr.predict(X_test_tfidf)\n",
    "print(\"training accuracy:\", np.mean([(train_preds==y_train)]))\n",
    "print(\"testing accuracy:\", np.mean([(test_preds==y_test)]))"
   ]
  },
  {
   "cell_type": "code",
   "execution_count": 103,
   "id": "f0bcaef1",
   "metadata": {
    "scrolled": true
   },
   "outputs": [
    {
     "data": {
      "text/html": [
       "<div>\n",
       "<style scoped>\n",
       "    .dataframe tbody tr th:only-of-type {\n",
       "        vertical-align: middle;\n",
       "    }\n",
       "\n",
       "    .dataframe tbody tr th {\n",
       "        vertical-align: top;\n",
       "    }\n",
       "\n",
       "    .dataframe thead th {\n",
       "        text-align: right;\n",
       "    }\n",
       "</style>\n",
       "<table border=\"1\" class=\"dataframe\">\n",
       "  <thead>\n",
       "    <tr style=\"text-align: right;\">\n",
       "      <th></th>\n",
       "      <th>00</th>\n",
       "      <th>000</th>\n",
       "      <th>000001g</th>\n",
       "      <th>0006</th>\n",
       "      <th>001</th>\n",
       "      <th>0010</th>\n",
       "      <th>002</th>\n",
       "      <th>004</th>\n",
       "      <th>005</th>\n",
       "      <th>0072558318</th>\n",
       "      <th>...</th>\n",
       "      <th>ás</th>\n",
       "      <th>útil</th>\n",
       "      <th>ōlelo</th>\n",
       "      <th>ʻana</th>\n",
       "      <th>ʻike</th>\n",
       "      <th>ʻo</th>\n",
       "      <th>ʻoe</th>\n",
       "      <th>ʻoluʻolu</th>\n",
       "      <th>ʻoʻoleʻa</th>\n",
       "      <th>爸爸</th>\n",
       "    </tr>\n",
       "  </thead>\n",
       "  <tbody>\n",
       "    <tr>\n",
       "      <th>0</th>\n",
       "      <td>0.048164</td>\n",
       "      <td>-0.137459</td>\n",
       "      <td>-0.117054</td>\n",
       "      <td>-0.064267</td>\n",
       "      <td>-0.220373</td>\n",
       "      <td>0.084337</td>\n",
       "      <td>0.020846</td>\n",
       "      <td>0.019865</td>\n",
       "      <td>0.081524</td>\n",
       "      <td>-0.111459</td>\n",
       "      <td>...</td>\n",
       "      <td>0.187838</td>\n",
       "      <td>0.072255</td>\n",
       "      <td>0.020433</td>\n",
       "      <td>0.045995</td>\n",
       "      <td>0.045995</td>\n",
       "      <td>0.091989</td>\n",
       "      <td>0.045995</td>\n",
       "      <td>0.045995</td>\n",
       "      <td>0.045995</td>\n",
       "      <td>0.140488</td>\n",
       "    </tr>\n",
       "  </tbody>\n",
       "</table>\n",
       "<p>1 rows × 28328 columns</p>\n",
       "</div>"
      ],
      "text/plain": [
       "         00       000   000001g      0006       001      0010       002  \\\n",
       "0  0.048164 -0.137459 -0.117054 -0.064267 -0.220373  0.084337  0.020846   \n",
       "\n",
       "        004       005  0072558318  ...        ás      útil     ōlelo  \\\n",
       "0  0.019865  0.081524   -0.111459  ...  0.187838  0.072255  0.020433   \n",
       "\n",
       "       ʻana      ʻike        ʻo       ʻoe  ʻoluʻolu  ʻoʻoleʻa        爸爸  \n",
       "0  0.045995  0.045995  0.091989  0.045995  0.045995  0.045995  0.140488  \n",
       "\n",
       "[1 rows x 28328 columns]"
      ]
     },
     "execution_count": 103,
     "metadata": {},
     "output_type": "execute_result"
    }
   ],
   "source": [
    "features = ['_'.join(s.split()) for s in tfidf.get_feature_names()]\n",
    "coefficients = lr.coef_\n",
    "coefs_df = pd.DataFrame.from_records(coefficients, columns=features)\n",
    "coefs_df"
   ]
  },
  {
   "cell_type": "code",
   "execution_count": 104,
   "id": "5f65dc15",
   "metadata": {},
   "outputs": [
    {
     "name": "stdout",
     "output_type": "stream",
     "text": [
      "                     0\n",
      "great         4.665930\n",
      "amazing       4.644933\n",
      "best          4.631600\n",
      "excellent     4.494046\n",
      "awesome       3.950368\n",
      "wonderful     3.724243\n",
      "helpful       3.477301\n",
      "loved         3.052912\n",
      "hilarious     2.875124\n",
      "fun           2.809272\n",
      "fantastic     2.733415\n",
      "highly        2.700198\n",
      "interesting   2.686381\n",
      "cool          2.684344\n",
      "explains      2.669693\n",
      "cares         2.561864\n",
      "rocks         2.544533\n",
      "favorite      2.536366\n",
      "easy          2.446267\n",
      "enthusiastic  2.414573\n",
      "\n",
      "                    0\n",
      "worst       -6.675677\n",
      "not         -5.295324\n",
      "avoid       -4.584834\n",
      "unclear     -4.035717\n",
      "horrible    -3.625365\n",
      "rude        -3.549601\n",
      "useless     -3.503210\n",
      "luck        -3.413324\n",
      "confusing   -3.302065\n",
      "terrible    -3.284915\n",
      "poor        -3.196714\n",
      "nothing     -3.061069\n",
      "awful       -2.933359\n",
      "unorganized -2.867737\n",
      "unhelpful   -2.847724\n",
      "doesn       -2.843693\n",
      "reads       -2.640829\n",
      "yourself    -2.564195\n",
      "thinks      -2.547505\n",
      "vague       -2.538503\n"
     ]
    }
   ],
   "source": [
    "print(coefs_df.T.sort_values(by=[0], ascending=False).head(20))\n",
    "print()\n",
    "print(coefs_df.T.sort_values(by=[0], ascending=True).head(20))"
   ]
  },
  {
   "cell_type": "markdown",
   "id": "92ae8336",
   "metadata": {},
   "source": [
    "## De faktisk modeller"
   ]
  },
  {
   "cell_type": "code",
   "execution_count": 95,
   "id": "237bfd62",
   "metadata": {},
   "outputs": [],
   "source": [
    "top = df_c[df_c['status']=='top']\n",
    "bottom = df_c[df_c['status']=='bottom']\n",
    "\n",
    "\n"
   ]
  },
  {
   "cell_type": "code",
   "execution_count": 99,
   "id": "99554eff",
   "metadata": {},
   "outputs": [],
   "source": [
    "#top universities\n",
    "y_t = np.where(top['Quality']>=3.5, 'good', 'bad')\n",
    "\n",
    "X_t = top['Comments']\n",
    "\n",
    "Xt_train, Xt_test, yt_train, yt_test = train_test_split(X_t, y_t, random_state=161193)\n",
    "\n",
    "#bottom universities\n",
    "y_b = np.where(bottom['Quality']>=3.5, 'good', 'bad')\n",
    "\n",
    "X_b = bottom['Comments']\n",
    "\n",
    "Xb_train, Xb_test, yb_train, yb_test = train_test_split(X_b, y_b, random_state=161193)"
   ]
  },
  {
   "cell_type": "code",
   "execution_count": 100,
   "id": "e5eb479a",
   "metadata": {},
   "outputs": [
    {
     "ename": "ValueError",
     "evalue": "np.nan is an invalid document, expected byte or unicode string.",
     "output_type": "error",
     "traceback": [
      "\u001b[1;31m---------------------------------------------------------------------------\u001b[0m",
      "\u001b[1;31mValueError\u001b[0m                                Traceback (most recent call last)",
      "\u001b[1;32m<ipython-input-100-e9e27b5fc8f6>\u001b[0m in \u001b[0;36m<module>\u001b[1;34m\u001b[0m\n\u001b[0;32m      3\u001b[0m \u001b[1;31m# use your own preprocessing function in the vectorizer when you've finished that exercise:\u001b[0m\u001b[1;33m\u001b[0m\u001b[1;33m\u001b[0m\u001b[1;33m\u001b[0m\u001b[0m\n\u001b[0;32m      4\u001b[0m \u001b[1;31m#tfidf = TfidfVectorizer(tokenizer=preprocess)\u001b[0m\u001b[1;33m\u001b[0m\u001b[1;33m\u001b[0m\u001b[1;33m\u001b[0m\u001b[0m\n\u001b[1;32m----> 5\u001b[1;33m \u001b[0mXt_train_tfidf\u001b[0m \u001b[1;33m=\u001b[0m \u001b[0mtfidf\u001b[0m\u001b[1;33m.\u001b[0m\u001b[0mfit_transform\u001b[0m\u001b[1;33m(\u001b[0m\u001b[0mXt_train\u001b[0m\u001b[1;33m)\u001b[0m\u001b[1;33m\u001b[0m\u001b[1;33m\u001b[0m\u001b[0m\n\u001b[0m\u001b[0;32m      6\u001b[0m \u001b[0mXt_test_tfidf\u001b[0m \u001b[1;33m=\u001b[0m \u001b[0mtfidf\u001b[0m\u001b[1;33m.\u001b[0m\u001b[0mtransform\u001b[0m\u001b[1;33m(\u001b[0m\u001b[0mXt_test\u001b[0m\u001b[1;33m)\u001b[0m\u001b[1;33m\u001b[0m\u001b[1;33m\u001b[0m\u001b[0m\n\u001b[0;32m      7\u001b[0m \u001b[1;33m\u001b[0m\u001b[0m\n",
      "\u001b[1;32mC:\\ProgramData\\Anaconda3\\lib\\site-packages\\sklearn\\feature_extraction\\text.py\u001b[0m in \u001b[0;36mfit_transform\u001b[1;34m(self, raw_documents, y)\u001b[0m\n\u001b[0;32m   1848\u001b[0m         \"\"\"\n\u001b[0;32m   1849\u001b[0m         \u001b[0mself\u001b[0m\u001b[1;33m.\u001b[0m\u001b[0m_check_params\u001b[0m\u001b[1;33m(\u001b[0m\u001b[1;33m)\u001b[0m\u001b[1;33m\u001b[0m\u001b[1;33m\u001b[0m\u001b[0m\n\u001b[1;32m-> 1850\u001b[1;33m         \u001b[0mX\u001b[0m \u001b[1;33m=\u001b[0m \u001b[0msuper\u001b[0m\u001b[1;33m(\u001b[0m\u001b[1;33m)\u001b[0m\u001b[1;33m.\u001b[0m\u001b[0mfit_transform\u001b[0m\u001b[1;33m(\u001b[0m\u001b[0mraw_documents\u001b[0m\u001b[1;33m)\u001b[0m\u001b[1;33m\u001b[0m\u001b[1;33m\u001b[0m\u001b[0m\n\u001b[0m\u001b[0;32m   1851\u001b[0m         \u001b[0mself\u001b[0m\u001b[1;33m.\u001b[0m\u001b[0m_tfidf\u001b[0m\u001b[1;33m.\u001b[0m\u001b[0mfit\u001b[0m\u001b[1;33m(\u001b[0m\u001b[0mX\u001b[0m\u001b[1;33m)\u001b[0m\u001b[1;33m\u001b[0m\u001b[1;33m\u001b[0m\u001b[0m\n\u001b[0;32m   1852\u001b[0m         \u001b[1;31m# X is already a transformed view of raw_documents so\u001b[0m\u001b[1;33m\u001b[0m\u001b[1;33m\u001b[0m\u001b[1;33m\u001b[0m\u001b[0m\n",
      "\u001b[1;32mC:\\ProgramData\\Anaconda3\\lib\\site-packages\\sklearn\\feature_extraction\\text.py\u001b[0m in \u001b[0;36mfit_transform\u001b[1;34m(self, raw_documents, y)\u001b[0m\n\u001b[0;32m   1201\u001b[0m         \u001b[0mmax_features\u001b[0m \u001b[1;33m=\u001b[0m \u001b[0mself\u001b[0m\u001b[1;33m.\u001b[0m\u001b[0mmax_features\u001b[0m\u001b[1;33m\u001b[0m\u001b[1;33m\u001b[0m\u001b[0m\n\u001b[0;32m   1202\u001b[0m \u001b[1;33m\u001b[0m\u001b[0m\n\u001b[1;32m-> 1203\u001b[1;33m         vocabulary, X = self._count_vocab(raw_documents,\n\u001b[0m\u001b[0;32m   1204\u001b[0m                                           self.fixed_vocabulary_)\n\u001b[0;32m   1205\u001b[0m \u001b[1;33m\u001b[0m\u001b[0m\n",
      "\u001b[1;32mC:\\ProgramData\\Anaconda3\\lib\\site-packages\\sklearn\\feature_extraction\\text.py\u001b[0m in \u001b[0;36m_count_vocab\u001b[1;34m(self, raw_documents, fixed_vocab)\u001b[0m\n\u001b[0;32m   1113\u001b[0m         \u001b[1;32mfor\u001b[0m \u001b[0mdoc\u001b[0m \u001b[1;32min\u001b[0m \u001b[0mraw_documents\u001b[0m\u001b[1;33m:\u001b[0m\u001b[1;33m\u001b[0m\u001b[1;33m\u001b[0m\u001b[0m\n\u001b[0;32m   1114\u001b[0m             \u001b[0mfeature_counter\u001b[0m \u001b[1;33m=\u001b[0m \u001b[1;33m{\u001b[0m\u001b[1;33m}\u001b[0m\u001b[1;33m\u001b[0m\u001b[1;33m\u001b[0m\u001b[0m\n\u001b[1;32m-> 1115\u001b[1;33m             \u001b[1;32mfor\u001b[0m \u001b[0mfeature\u001b[0m \u001b[1;32min\u001b[0m \u001b[0manalyze\u001b[0m\u001b[1;33m(\u001b[0m\u001b[0mdoc\u001b[0m\u001b[1;33m)\u001b[0m\u001b[1;33m:\u001b[0m\u001b[1;33m\u001b[0m\u001b[1;33m\u001b[0m\u001b[0m\n\u001b[0m\u001b[0;32m   1116\u001b[0m                 \u001b[1;32mtry\u001b[0m\u001b[1;33m:\u001b[0m\u001b[1;33m\u001b[0m\u001b[1;33m\u001b[0m\u001b[0m\n\u001b[0;32m   1117\u001b[0m                     \u001b[0mfeature_idx\u001b[0m \u001b[1;33m=\u001b[0m \u001b[0mvocabulary\u001b[0m\u001b[1;33m[\u001b[0m\u001b[0mfeature\u001b[0m\u001b[1;33m]\u001b[0m\u001b[1;33m\u001b[0m\u001b[1;33m\u001b[0m\u001b[0m\n",
      "\u001b[1;32mC:\\ProgramData\\Anaconda3\\lib\\site-packages\\sklearn\\feature_extraction\\text.py\u001b[0m in \u001b[0;36m_analyze\u001b[1;34m(doc, analyzer, tokenizer, ngrams, preprocessor, decoder, stop_words)\u001b[0m\n\u001b[0;32m     97\u001b[0m \u001b[1;33m\u001b[0m\u001b[0m\n\u001b[0;32m     98\u001b[0m     \u001b[1;32mif\u001b[0m \u001b[0mdecoder\u001b[0m \u001b[1;32mis\u001b[0m \u001b[1;32mnot\u001b[0m \u001b[1;32mNone\u001b[0m\u001b[1;33m:\u001b[0m\u001b[1;33m\u001b[0m\u001b[1;33m\u001b[0m\u001b[0m\n\u001b[1;32m---> 99\u001b[1;33m         \u001b[0mdoc\u001b[0m \u001b[1;33m=\u001b[0m \u001b[0mdecoder\u001b[0m\u001b[1;33m(\u001b[0m\u001b[0mdoc\u001b[0m\u001b[1;33m)\u001b[0m\u001b[1;33m\u001b[0m\u001b[1;33m\u001b[0m\u001b[0m\n\u001b[0m\u001b[0;32m    100\u001b[0m     \u001b[1;32mif\u001b[0m \u001b[0manalyzer\u001b[0m \u001b[1;32mis\u001b[0m \u001b[1;32mnot\u001b[0m \u001b[1;32mNone\u001b[0m\u001b[1;33m:\u001b[0m\u001b[1;33m\u001b[0m\u001b[1;33m\u001b[0m\u001b[0m\n\u001b[0;32m    101\u001b[0m         \u001b[0mdoc\u001b[0m \u001b[1;33m=\u001b[0m \u001b[0manalyzer\u001b[0m\u001b[1;33m(\u001b[0m\u001b[0mdoc\u001b[0m\u001b[1;33m)\u001b[0m\u001b[1;33m\u001b[0m\u001b[1;33m\u001b[0m\u001b[0m\n",
      "\u001b[1;32mC:\\ProgramData\\Anaconda3\\lib\\site-packages\\sklearn\\feature_extraction\\text.py\u001b[0m in \u001b[0;36mdecode\u001b[1;34m(self, doc)\u001b[0m\n\u001b[0;32m    215\u001b[0m \u001b[1;33m\u001b[0m\u001b[0m\n\u001b[0;32m    216\u001b[0m         \u001b[1;32mif\u001b[0m \u001b[0mdoc\u001b[0m \u001b[1;32mis\u001b[0m \u001b[0mnp\u001b[0m\u001b[1;33m.\u001b[0m\u001b[0mnan\u001b[0m\u001b[1;33m:\u001b[0m\u001b[1;33m\u001b[0m\u001b[1;33m\u001b[0m\u001b[0m\n\u001b[1;32m--> 217\u001b[1;33m             raise ValueError(\"np.nan is an invalid document, expected byte or \"\n\u001b[0m\u001b[0;32m    218\u001b[0m                              \"unicode string.\")\n\u001b[0;32m    219\u001b[0m \u001b[1;33m\u001b[0m\u001b[0m\n",
      "\u001b[1;31mValueError\u001b[0m: np.nan is an invalid document, expected byte or unicode string."
     ]
    }
   ],
   "source": [
    "# Get feature vectors\n",
    "tfidf = TfidfVectorizer()\n",
    "# use your own preprocessing function in the vectorizer when you've finished that exercise:\n",
    "#tfidf = TfidfVectorizer(tokenizer=preprocess)\n",
    "Xt_train_tfidf = tfidf.fit_transform(Xt_train)\n",
    "Xt_test_tfidf = tfidf.transform(Xt_test)\n",
    "\n",
    "# labels\n",
    "yt_train = yt_train\n",
    "yt_test = yt_test\n",
    "\n",
    "# classifier\n",
    "lr = LogisticRegression(random_state=0)\n",
    "\n",
    "#training\n",
    "lr.fit(Xt_train_tfidf,yt_train)\n",
    "\n",
    "#testing\n",
    "ttrain_preds = lr.predict(Xt_train_tfidf)\n",
    "ttest_preds = lr.predict(Xt_test_tfidf)\n",
    "print(\"training accuracy:\", np.mean([(ttrain_preds==yt_train)]))\n",
    "print(\"testing accuracy:\", np.mean([(ttest_preds==yt_test)]))\n",
    "\n",
    "print(coefs_df.T.sort_values(by=[0], ascending=False).head(20))\n",
    "print()\n",
    "print(coefs_df.T.sort_values(by=[0], ascending=True).head(20))"
   ]
  },
  {
   "cell_type": "code",
   "execution_count": 98,
   "id": "ce6d43a2",
   "metadata": {},
   "outputs": [
    {
     "ename": "NotFittedError",
     "evalue": "Vocabulary not fitted or provided",
     "output_type": "error",
     "traceback": [
      "\u001b[1;31m---------------------------------------------------------------------------\u001b[0m",
      "\u001b[1;31mNotFittedError\u001b[0m                            Traceback (most recent call last)",
      "\u001b[1;32m<ipython-input-98-ee1ab3670e7f>\u001b[0m in \u001b[0;36m<module>\u001b[1;34m\u001b[0m\n\u001b[1;32m----> 1\u001b[1;33m \u001b[0mfeatures\u001b[0m \u001b[1;33m=\u001b[0m \u001b[1;33m[\u001b[0m\u001b[1;34m'_'\u001b[0m\u001b[1;33m.\u001b[0m\u001b[0mjoin\u001b[0m\u001b[1;33m(\u001b[0m\u001b[0ms\u001b[0m\u001b[1;33m.\u001b[0m\u001b[0msplit\u001b[0m\u001b[1;33m(\u001b[0m\u001b[1;33m)\u001b[0m\u001b[1;33m)\u001b[0m \u001b[1;32mfor\u001b[0m \u001b[0ms\u001b[0m \u001b[1;32min\u001b[0m \u001b[0mtfidf\u001b[0m\u001b[1;33m.\u001b[0m\u001b[0mget_feature_names\u001b[0m\u001b[1;33m(\u001b[0m\u001b[1;33m)\u001b[0m\u001b[1;33m]\u001b[0m\u001b[1;33m\u001b[0m\u001b[1;33m\u001b[0m\u001b[0m\n\u001b[0m\u001b[0;32m      2\u001b[0m \u001b[0mcoefficients\u001b[0m \u001b[1;33m=\u001b[0m \u001b[0mlr\u001b[0m\u001b[1;33m.\u001b[0m\u001b[0mcoef_\u001b[0m\u001b[1;33m\u001b[0m\u001b[1;33m\u001b[0m\u001b[0m\n\u001b[0;32m      3\u001b[0m \u001b[0mcoefs_df\u001b[0m \u001b[1;33m=\u001b[0m \u001b[0mpd\u001b[0m\u001b[1;33m.\u001b[0m\u001b[0mDataFrame\u001b[0m\u001b[1;33m.\u001b[0m\u001b[0mfrom_records\u001b[0m\u001b[1;33m(\u001b[0m\u001b[0mcoefficients\u001b[0m\u001b[1;33m,\u001b[0m \u001b[0mcolumns\u001b[0m\u001b[1;33m=\u001b[0m\u001b[0mfeatures\u001b[0m\u001b[1;33m)\u001b[0m\u001b[1;33m\u001b[0m\u001b[1;33m\u001b[0m\u001b[0m\n\u001b[0;32m      4\u001b[0m \u001b[0mcoefs_df\u001b[0m\u001b[1;33m\u001b[0m\u001b[1;33m\u001b[0m\u001b[0m\n",
      "\u001b[1;32mC:\\ProgramData\\Anaconda3\\lib\\site-packages\\sklearn\\feature_extraction\\text.py\u001b[0m in \u001b[0;36mget_feature_names\u001b[1;34m(self)\u001b[0m\n\u001b[0;32m   1298\u001b[0m         \"\"\"\n\u001b[0;32m   1299\u001b[0m \u001b[1;33m\u001b[0m\u001b[0m\n\u001b[1;32m-> 1300\u001b[1;33m         \u001b[0mself\u001b[0m\u001b[1;33m.\u001b[0m\u001b[0m_check_vocabulary\u001b[0m\u001b[1;33m(\u001b[0m\u001b[1;33m)\u001b[0m\u001b[1;33m\u001b[0m\u001b[1;33m\u001b[0m\u001b[0m\n\u001b[0m\u001b[0;32m   1301\u001b[0m \u001b[1;33m\u001b[0m\u001b[0m\n\u001b[0;32m   1302\u001b[0m         return [t for t, i in sorted(self.vocabulary_.items(),\n",
      "\u001b[1;32mC:\\ProgramData\\Anaconda3\\lib\\site-packages\\sklearn\\feature_extraction\\text.py\u001b[0m in \u001b[0;36m_check_vocabulary\u001b[1;34m(self)\u001b[0m\n\u001b[0;32m    470\u001b[0m             \u001b[0mself\u001b[0m\u001b[1;33m.\u001b[0m\u001b[0m_validate_vocabulary\u001b[0m\u001b[1;33m(\u001b[0m\u001b[1;33m)\u001b[0m\u001b[1;33m\u001b[0m\u001b[1;33m\u001b[0m\u001b[0m\n\u001b[0;32m    471\u001b[0m             \u001b[1;32mif\u001b[0m \u001b[1;32mnot\u001b[0m \u001b[0mself\u001b[0m\u001b[1;33m.\u001b[0m\u001b[0mfixed_vocabulary_\u001b[0m\u001b[1;33m:\u001b[0m\u001b[1;33m\u001b[0m\u001b[1;33m\u001b[0m\u001b[0m\n\u001b[1;32m--> 472\u001b[1;33m                 \u001b[1;32mraise\u001b[0m \u001b[0mNotFittedError\u001b[0m\u001b[1;33m(\u001b[0m\u001b[1;34m\"Vocabulary not fitted or provided\"\u001b[0m\u001b[1;33m)\u001b[0m\u001b[1;33m\u001b[0m\u001b[1;33m\u001b[0m\u001b[0m\n\u001b[0m\u001b[0;32m    473\u001b[0m \u001b[1;33m\u001b[0m\u001b[0m\n\u001b[0;32m    474\u001b[0m         \u001b[1;32mif\u001b[0m \u001b[0mlen\u001b[0m\u001b[1;33m(\u001b[0m\u001b[0mself\u001b[0m\u001b[1;33m.\u001b[0m\u001b[0mvocabulary_\u001b[0m\u001b[1;33m)\u001b[0m \u001b[1;33m==\u001b[0m \u001b[1;36m0\u001b[0m\u001b[1;33m:\u001b[0m\u001b[1;33m\u001b[0m\u001b[1;33m\u001b[0m\u001b[0m\n",
      "\u001b[1;31mNotFittedError\u001b[0m: Vocabulary not fitted or provided"
     ]
    }
   ],
   "source": [
    "features = ['_'.join(s.split()) for s in tfidf.get_feature_names()]\n",
    "coefficients = lr.coef_\n",
    "coefs_df = pd.DataFrame.from_records(coefficients, columns=features)\n",
    "coefs_df"
   ]
  },
  {
   "cell_type": "code",
   "execution_count": 119,
   "id": "78b7782f",
   "metadata": {},
   "outputs": [
    {
     "name": "stdout",
     "output_type": "stream",
     "text": [
      "                  0\n",
      "best       4.550059\n",
      "amazing    4.030124\n",
      "great      3.944210\n",
      "excellent  3.415934\n",
      "awesome    3.102986\n",
      "wonderful  2.721556\n",
      "loved      2.646081\n",
      "always     2.541157\n",
      "fantastic  2.474019\n",
      "love       2.444734\n",
      "brilliant  2.424629\n",
      "helpful    2.406449\n",
      "explains   2.336687\n",
      "highly     2.276719\n",
      "willing    2.181848\n",
      "cares      2.173476\n",
      "cool       2.133345\n",
      "sure       1.929296\n",
      "good       1.927644\n",
      "clear      1.898594\n",
      "\n",
      "                     0\n",
      "worst        -6.463011\n",
      "not          -5.909493\n",
      "terrible     -3.902084\n",
      "horrible     -3.753817\n",
      "unclear      -3.414217\n",
      "avoid        -3.110569\n",
      "no           -2.929982\n",
      "rude         -2.792904\n",
      "useless      -2.704012\n",
      "doesn        -2.635714\n",
      "thinks       -2.546257\n",
      "poor         -2.484423\n",
      "unhelpful    -2.437398\n",
      "confusing    -2.309770\n",
      "himself      -2.258127\n",
      "luck         -2.213404\n",
      "awful        -2.149665\n",
      "don          -2.147540\n",
      "disorganized -2.131567\n",
      "seems        -2.030893\n"
     ]
    }
   ],
   "source": [
    "print(coefs_df.T.sort_values(by=[0], ascending=False).head(20))\n",
    "print()\n",
    "print(coefs_df.T.sort_values(by=[0], ascending=True).head(20))"
   ]
  },
  {
   "cell_type": "code",
   "execution_count": 120,
   "id": "75a9da3a",
   "metadata": {},
   "outputs": [
    {
     "name": "stdout",
     "output_type": "stream",
     "text": [
      "training accuracy: 0.8309973045822102\n",
      "testing accuracy: 0.7981805929919138\n"
     ]
    },
    {
     "name": "stderr",
     "output_type": "stream",
     "text": [
      "C:\\ProgramData\\Anaconda3\\lib\\site-packages\\sklearn\\linear_model\\_logistic.py:763: ConvergenceWarning: lbfgs failed to converge (status=1):\n",
      "STOP: TOTAL NO. of ITERATIONS REACHED LIMIT.\n",
      "\n",
      "Increase the number of iterations (max_iter) or scale the data as shown in:\n",
      "    https://scikit-learn.org/stable/modules/preprocessing.html\n",
      "Please also refer to the documentation for alternative solver options:\n",
      "    https://scikit-learn.org/stable/modules/linear_model.html#logistic-regression\n",
      "  n_iter_i = _check_optimize_result(\n"
     ]
    }
   ],
   "source": [
    "# Get feature vectors\n",
    "tfidf = TfidfVectorizer()\n",
    "# use your own preprocessing function in the vectorizer when you've finished that exercise:\n",
    "#tfidf = TfidfVectorizer(tokenizer=preprocess)\n",
    "Xb_train_tfidf = tfidf.fit_transform(Xb_train)\n",
    "Xb_test_tfidf = tfidf.transform(Xb_test)\n",
    "\n",
    "# labels\n",
    "yb_train = yb_train\n",
    "yb_test = yb_test\n",
    "\n",
    "# classifier\n",
    "lr = LogisticRegression(random_state=0)\n",
    "\n",
    "#training\n",
    "lr.fit(Xb_train_tfidf,yb_train)\n",
    "\n",
    "#testing\n",
    "train_preds = lr.predict(Xb_train_tfidf)\n",
    "test_preds = lr.predict(Xb_test_tfidf)\n",
    "print(\"training accuracy:\", np.mean([(train_preds==yb_train)]))\n",
    "print(\"testing accuracy:\", np.mean([(test_preds==yb_test)]))\n"
   ]
  },
  {
   "cell_type": "code",
   "execution_count": 121,
   "id": "4f16309f",
   "metadata": {},
   "outputs": [
    {
     "data": {
      "text/html": [
       "<div>\n",
       "<style scoped>\n",
       "    .dataframe tbody tr th:only-of-type {\n",
       "        vertical-align: middle;\n",
       "    }\n",
       "\n",
       "    .dataframe tbody tr th {\n",
       "        vertical-align: top;\n",
       "    }\n",
       "\n",
       "    .dataframe thead th {\n",
       "        text-align: right;\n",
       "    }\n",
       "</style>\n",
       "<table border=\"1\" class=\"dataframe\">\n",
       "  <thead>\n",
       "    <tr style=\"text-align: right;\">\n",
       "      <th></th>\n",
       "      <th>00</th>\n",
       "      <th>000</th>\n",
       "      <th>000001g</th>\n",
       "      <th>0006</th>\n",
       "      <th>001</th>\n",
       "      <th>00am</th>\n",
       "      <th>00pm</th>\n",
       "      <th>01</th>\n",
       "      <th>011</th>\n",
       "      <th>012</th>\n",
       "      <th>...</th>\n",
       "      <th>zzzzzzzzzzzzzzzzzzzzzz</th>\n",
       "      <th>álvarez</th>\n",
       "      <th>ás</th>\n",
       "      <th>ōlelo</th>\n",
       "      <th>ʻana</th>\n",
       "      <th>ʻike</th>\n",
       "      <th>ʻo</th>\n",
       "      <th>ʻoe</th>\n",
       "      <th>ʻoluʻolu</th>\n",
       "      <th>ʻoʻoleʻa</th>\n",
       "    </tr>\n",
       "  </thead>\n",
       "  <tbody>\n",
       "    <tr>\n",
       "      <th>0</th>\n",
       "      <td>-0.153968</td>\n",
       "      <td>-0.652141</td>\n",
       "      <td>-0.117905</td>\n",
       "      <td>-0.068689</td>\n",
       "      <td>0.041939</td>\n",
       "      <td>-0.098886</td>\n",
       "      <td>0.119629</td>\n",
       "      <td>-0.273118</td>\n",
       "      <td>0.077714</td>\n",
       "      <td>0.077714</td>\n",
       "      <td>...</td>\n",
       "      <td>-0.311484</td>\n",
       "      <td>0.175997</td>\n",
       "      <td>0.186505</td>\n",
       "      <td>0.020482</td>\n",
       "      <td>0.043434</td>\n",
       "      <td>0.043434</td>\n",
       "      <td>0.086868</td>\n",
       "      <td>0.043434</td>\n",
       "      <td>0.043434</td>\n",
       "      <td>0.043434</td>\n",
       "    </tr>\n",
       "  </tbody>\n",
       "</table>\n",
       "<p>1 rows × 23113 columns</p>\n",
       "</div>"
      ],
      "text/plain": [
       "         00       000   000001g      0006       001      00am      00pm  \\\n",
       "0 -0.153968 -0.652141 -0.117905 -0.068689  0.041939 -0.098886  0.119629   \n",
       "\n",
       "         01       011       012  ...  zzzzzzzzzzzzzzzzzzzzzz   álvarez  \\\n",
       "0 -0.273118  0.077714  0.077714  ...               -0.311484  0.175997   \n",
       "\n",
       "         ás     ōlelo      ʻana      ʻike        ʻo       ʻoe  ʻoluʻolu  \\\n",
       "0  0.186505  0.020482  0.043434  0.043434  0.086868  0.043434  0.043434   \n",
       "\n",
       "   ʻoʻoleʻa  \n",
       "0  0.043434  \n",
       "\n",
       "[1 rows x 23113 columns]"
      ]
     },
     "execution_count": 121,
     "metadata": {},
     "output_type": "execute_result"
    }
   ],
   "source": [
    "features = ['_'.join(s.split()) for s in tfidf.get_feature_names()]\n",
    "coefficients = lr.coef_\n",
    "coefs_df = pd.DataFrame.from_records(coefficients, columns=features)\n",
    "coefs_df"
   ]
  },
  {
   "cell_type": "code",
   "execution_count": 122,
   "id": "7d826e1b",
   "metadata": {},
   "outputs": [
    {
     "name": "stdout",
     "output_type": "stream",
     "text": [
      "                    0\n",
      "great        5.166606\n",
      "best         4.433569\n",
      "awesome      4.165015\n",
      "amazing      3.978236\n",
      "excellent    3.808891\n",
      "helpful      3.583302\n",
      "fun          3.354404\n",
      "wonderful    3.218319\n",
      "interesting  2.869070\n",
      "hilarious    2.845134\n",
      "easy         2.829384\n",
      "loved        2.741220\n",
      "cool         2.438599\n",
      "you          2.332321\n",
      "highly       2.320102\n",
      "cares        2.227371\n",
      "love         2.207271\n",
      "enjoyable    2.188529\n",
      "attention    2.125369\n",
      "favorite     2.070249\n",
      "\n",
      "                    0\n",
      "worst       -5.966652\n",
      "not         -5.182568\n",
      "avoid       -4.523254\n",
      "unclear     -4.076124\n",
      "rude        -3.783279\n",
      "horrible    -3.416215\n",
      "luck        -3.343650\n",
      "unorganized -3.159193\n",
      "reads       -3.144532\n",
      "useless     -3.055804\n",
      "nothing     -3.039199\n",
      "confusing   -3.018885\n",
      "terrible    -2.733022\n",
      "doesn       -2.620068\n",
      "awful       -2.575519\n",
      "unhelpful   -2.438693\n",
      "yourself    -2.377456\n",
      "no          -2.351225\n",
      "sucks       -2.273980\n",
      "never       -2.245244\n"
     ]
    }
   ],
   "source": [
    "print(coefs_df.T.sort_values(by=[0], ascending=False).head(20))\n",
    "print()\n",
    "print(coefs_df.T.sort_values(by=[0], ascending=True).head(20))"
   ]
  },
  {
   "cell_type": "markdown",
   "id": "a8a094e3",
   "metadata": {},
   "source": [
    "## TOP OR BOTTOM???"
   ]
  },
  {
   "cell_type": "code",
   "execution_count": 107,
   "id": "f93565e1",
   "metadata": {},
   "outputs": [],
   "source": [
    "df_c = df_c.dropna(axis=0, how='any', thresh=None, subset=None, inplace=False)\n",
    "\n",
    "#bottom universities\n",
    "y= df_c['status']\n",
    "\n",
    "X = df_c['Comments']\n",
    "\n",
    "X_train, X_test, y_train, y_test = train_test_split(X, y, random_state=161193)"
   ]
  },
  {
   "cell_type": "code",
   "execution_count": 114,
   "id": "3d09ad33",
   "metadata": {},
   "outputs": [],
   "source": [
    "# use your own preprocessing function in the vectorizer when you've finished that exercise:\n",
    "tfidf = TfidfVectorizer(tokenizer=preprocess)\n",
    "X_train_tfidf = tfidf.fit_transform(X_train)\n",
    "X_test_tfidf = tfidf.transform(X_test)\n"
   ]
  },
  {
   "cell_type": "code",
   "execution_count": 115,
   "id": "9d3fcb9d",
   "metadata": {},
   "outputs": [
    {
     "name": "stdout",
     "output_type": "stream",
     "text": [
      "training accuracy: 0.8313733652478579\n",
      "testing accuracy: 0.8029451555833074\n"
     ]
    },
    {
     "name": "stderr",
     "output_type": "stream",
     "text": [
      "C:\\ProgramData\\Anaconda3\\lib\\site-packages\\sklearn\\linear_model\\_logistic.py:763: ConvergenceWarning: lbfgs failed to converge (status=1):\n",
      "STOP: TOTAL NO. of ITERATIONS REACHED LIMIT.\n",
      "\n",
      "Increase the number of iterations (max_iter) or scale the data as shown in:\n",
      "    https://scikit-learn.org/stable/modules/preprocessing.html\n",
      "Please also refer to the documentation for alternative solver options:\n",
      "    https://scikit-learn.org/stable/modules/linear_model.html#logistic-regression\n",
      "  n_iter_i = _check_optimize_result(\n"
     ]
    }
   ],
   "source": [
    "# labels\n",
    "y_train = y_train\n",
    "y_test = y_test\n",
    "\n",
    "# classifier\n",
    "lr = LogisticRegression(random_state=0)\n",
    "\n",
    "#training\n",
    "lr.fit(X_train_tfidf,y_train)\n",
    "\n",
    "#testing\n",
    "train_preds = lr.predict(X_train_tfidf)\n",
    "test_preds = lr.predict(X_test_tfidf)\n",
    "print(\"training accuracy:\", np.mean([(train_preds==y_train)]))\n",
    "print(\"testing accuracy:\", np.mean([(test_preds==y_test)]))"
   ]
  },
  {
   "cell_type": "code",
   "execution_count": 116,
   "id": "6f4e0f03",
   "metadata": {},
   "outputs": [
    {
     "data": {
      "text/html": [
       "<div>\n",
       "<style scoped>\n",
       "    .dataframe tbody tr th:only-of-type {\n",
       "        vertical-align: middle;\n",
       "    }\n",
       "\n",
       "    .dataframe tbody tr th {\n",
       "        vertical-align: top;\n",
       "    }\n",
       "\n",
       "    .dataframe thead th {\n",
       "        text-align: right;\n",
       "    }\n",
       "</style>\n",
       "<table border=\"1\" class=\"dataframe\">\n",
       "  <thead>\n",
       "    <tr style=\"text-align: right;\">\n",
       "      <th></th>\n",
       "      <th>0</th>\n",
       "      <th>0000001g</th>\n",
       "      <th>0006</th>\n",
       "      <th>001</th>\n",
       "      <th>0010</th>\n",
       "      <th>004</th>\n",
       "      <th>01</th>\n",
       "      <th>010</th>\n",
       "      <th>02</th>\n",
       "      <th>025</th>\n",
       "      <th>...</th>\n",
       "      <th>ʻoʻoleʻa</th>\n",
       "      <th>–</th>\n",
       "      <th>–intext</th>\n",
       "      <th>–keep</th>\n",
       "      <th>‘</th>\n",
       "      <th>’</th>\n",
       "      <th>“</th>\n",
       "      <th>”</th>\n",
       "      <th>爸爸</th>\n",
       "      <th>��</th>\n",
       "    </tr>\n",
       "  </thead>\n",
       "  <tbody>\n",
       "    <tr>\n",
       "      <th>0</th>\n",
       "      <td>-0.531075</td>\n",
       "      <td>-0.035495</td>\n",
       "      <td>-0.035358</td>\n",
       "      <td>-0.290047</td>\n",
       "      <td>0.189124</td>\n",
       "      <td>0.21841</td>\n",
       "      <td>0.173312</td>\n",
       "      <td>0.077042</td>\n",
       "      <td>-0.53569</td>\n",
       "      <td>-0.155601</td>\n",
       "      <td>...</td>\n",
       "      <td>-0.066385</td>\n",
       "      <td>0.036056</td>\n",
       "      <td>-0.01221</td>\n",
       "      <td>-0.01221</td>\n",
       "      <td>-0.138332</td>\n",
       "      <td>-1.044916</td>\n",
       "      <td>-0.077821</td>\n",
       "      <td>-0.137498</td>\n",
       "      <td>0.321493</td>\n",
       "      <td>-0.469866</td>\n",
       "    </tr>\n",
       "  </tbody>\n",
       "</table>\n",
       "<p>1 rows × 27114 columns</p>\n",
       "</div>"
      ],
      "text/plain": [
       "          0  0000001g      0006       001      0010      004        01  \\\n",
       "0 -0.531075 -0.035495 -0.035358 -0.290047  0.189124  0.21841  0.173312   \n",
       "\n",
       "        010       02       025  ...  ʻoʻoleʻa         –  –intext    –keep  \\\n",
       "0  0.077042 -0.53569 -0.155601  ... -0.066385  0.036056 -0.01221 -0.01221   \n",
       "\n",
       "          ‘         ’         “         ”        爸爸        ��  \n",
       "0 -0.138332 -1.044916 -0.077821 -0.137498  0.321493 -0.469866  \n",
       "\n",
       "[1 rows x 27114 columns]"
      ]
     },
     "execution_count": 116,
     "metadata": {},
     "output_type": "execute_result"
    }
   ],
   "source": [
    "features = ['_'.join(s.split()) for s in tfidf.get_feature_names()]\n",
    "coefficients = lr.coef_\n",
    "coefs_df = pd.DataFrame.from_records(coefficients, columns=features)\n",
    "coefs_df"
   ]
  },
  {
   "cell_type": "code",
   "execution_count": 117,
   "id": "a810f71a",
   "metadata": {},
   "outputs": [
    {
     "name": "stdout",
     "output_type": "stream",
     "text": [
      "                     0\n",
      "cal           8.335027\n",
      "calu          5.395778\n",
      "jhu           4.648602\n",
      "mit           4.480599\n",
      "d2l           4.188520\n",
      "lecturer      4.044410\n",
      "orgo          3.493590\n",
      "bonus         3.436890\n",
      "brilliant     2.853486\n",
      "china         2.752921\n",
      "backtests     2.536598\n",
      "quarter       2.524976\n",
      "neuroscience  2.267510\n",
      "psets         2.129070\n",
      "engaging      2.046909\n",
      "pwr           1.956871\n",
      "linear        1.910469\n",
      "prof          1.890996\n",
      "uchicago      1.851459\n",
      "genius        1.845722\n",
      "incredible    1.815084\n",
      "mathematical  1.786480\n",
      "leading       1.760825\n",
      "generally     1.751442\n",
      "rewarding     1.730306\n",
      "nobel         1.725902\n",
      "cussw         1.720458\n",
      "eloquent      1.691061\n",
      "algorithm     1.663849\n",
      "excitement    1.653088\n",
      "introduction  1.647592\n",
      "intellectual  1.637659\n",
      "persian       1.634798\n",
      "doc           1.608832\n",
      "incredibly    1.597328\n",
      "analytical    1.596375\n",
      "quantum       1.592416\n",
      "ssa           1.589010\n",
      "team          1.573766\n",
      "committed     1.536336\n",
      "\n",
      "                    0\n",
      "csu         -6.383536\n",
      "wsu         -5.152365\n",
      "wku         -4.991563\n",
      "twu         -4.382843\n",
      "pba         -3.591734\n",
      "mr          -3.016988\n",
      "expectation -2.894613\n",
      "test        -2.847850\n",
      "quiz        -2.742154\n",
      "pas         -2.531837\n",
      "ut          -2.527156\n",
      "guide       -2.484341\n",
      "semester    -2.451538\n",
      "credit      -2.310881\n",
      "chapter     -2.301266\n",
      "board       -2.232024\n",
      "expects     -2.212190\n",
      "succeed     -2.173650\n",
      "passed      -2.168013\n",
      "instructor  -2.135665\n",
      "review      -2.052852\n",
      "hybrid      -2.021061\n",
      "sarcastic   -2.003423\n",
      "module      -1.969526\n",
      "essay       -1.964115\n",
      "ready       -1.954181\n",
      "utt         -1.952394\n",
      "blackboard  -1.943114\n",
      "video       -1.934475\n",
      "grade       -1.926038\n",
      "respectful  -1.925373\n",
      "homework    -1.899258\n",
      "email       -1.898696\n",
      "uhh         -1.836570\n",
      "teacher     -1.835543\n",
      "prepare     -1.827029\n",
      "asl         -1.822846\n",
      "artist      -1.813285\n",
      "group       -1.810449\n",
      "provides    -1.799014\n"
     ]
    }
   ],
   "source": [
    "print(coefs_df.T.sort_values(by=[0], ascending=False).head(40))\n",
    "print()\n",
    "print(coefs_df.T.sort_values(by=[0], ascending=True).head(40))"
   ]
  }
 ],
 "metadata": {
  "kernelspec": {
   "display_name": "Python 3",
   "language": "python",
   "name": "python3"
  },
  "language_info": {
   "codemirror_mode": {
    "name": "ipython",
    "version": 3
   },
   "file_extension": ".py",
   "mimetype": "text/x-python",
   "name": "python",
   "nbconvert_exporter": "python",
   "pygments_lexer": "ipython3",
   "version": "3.8.8"
  }
 },
 "nbformat": 4,
 "nbformat_minor": 5
}

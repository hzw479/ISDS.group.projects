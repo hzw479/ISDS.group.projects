{
 "cells": [
  {
   "cell_type": "code",
   "execution_count": 65,
   "id": "878d1943",
   "metadata": {},
   "outputs": [],
   "source": [
    "import pandas as pd\n",
    "import seaborn as sns\n",
    "\n",
    "\n",
    "df_p = pd.read_csv('df_final.csv')\n",
    "df_c = pd.read_csv('df_comments_final.csv')\n",
    "df_c = df_c[df_c['Comments'] != 'No Comments']\n",
    "df_c = df_c['Comments'].dropna()\n",
    "\n"
   ]
  },
  {
   "cell_type": "code",
   "execution_count": 50,
   "id": "183c9aa3",
   "metadata": {},
   "outputs": [
    {
     "name": "stdout",
     "output_type": "stream",
     "text": [
      "3.065654836623683\n",
      "3.6720174470944755\n",
      "   status  Difficulty\n",
      "0  bottom    3.058741\n",
      "1     top    3.088109\n",
      "   status   Quality\n",
      "0  bottom  3.648311\n",
      "1     top  3.749004\n",
      "   status     len_col\n",
      "0  bottom  236.851224\n",
      "1     top  180.409946\n",
      "status\n",
      "bottom    62614\n",
      "top       19103\n",
      "dtype: int64\n"
     ]
    }
   ],
   "source": [
    "print(df_c[\"Difficulty\"].mean())\n",
    "print(df_c[\"Quality\"].mean())\n",
    "\n",
    "\n",
    "#Depending on school status\n",
    "\n",
    "print(df_c.groupby('status', as_index=False)['Difficulty'].mean())\n",
    "print(df_c.groupby('status', as_index=False)['Quality'].mean())\n",
    "\n",
    "#Make column with length of comments\n",
    "df_c['len_col'] = df_c['Comments'].str.len()\n",
    "\n",
    "print(df_c.groupby('status', as_index=False)['len_col'].mean())\n",
    "\n",
    "print(df_c.groupby('status').size())"
   ]
  },
  {
   "cell_type": "code",
   "execution_count": 51,
   "id": "156ab27c",
   "metadata": {},
   "outputs": [
    {
     "name": "stdout",
     "output_type": "stream",
     "text": [
      "   status   Quality\n",
      "0  bottom  2.179536\n",
      "1     top  2.221548\n",
      "   status  Difficulty\n",
      "0  bottom    1.553948\n",
      "1     top    1.526141\n"
     ]
    }
   ],
   "source": [
    "#See variance\n",
    "\n",
    "print(df_c.groupby('status', as_index=False)['Quality'].var())\n",
    "print(df_c.groupby('status', as_index=False)['Difficulty'].var())\n"
   ]
  },
  {
   "cell_type": "code",
   "execution_count": 52,
   "id": "e7cf51a6",
   "metadata": {},
   "outputs": [
    {
     "data": {
      "text/plain": [
       "<AxesSubplot:xlabel='Quality', ylabel='count'>"
      ]
     },
     "execution_count": 52,
     "metadata": {},
     "output_type": "execute_result"
    },
    {
     "data": {
      "image/png": "[encoded data removed]",
      "text/plain": [
       "<Figure size 432x288 with 1 Axes>"
      ]
     },
     "metadata": {
      "needs_background": "light"
     },
     "output_type": "display_data"
    }
   ],
   "source": [
    "#sns.countplot(data=df_c, x='Difficulty')\n",
    "\n",
    "sns.countplot(data=df_c, x='Quality', hue = 'status')"
   ]
  },
  {
   "cell_type": "code",
   "execution_count": 60,
   "id": "f0807510",
   "metadata": {},
   "outputs": [
    {
     "data": {
      "text/html": [
       "<div>\n",
       "<style scoped>\n",
       "    .dataframe tbody tr th:only-of-type {\n",
       "        vertical-align: middle;\n",
       "    }\n",
       "\n",
       "    .dataframe tbody tr th {\n",
       "        vertical-align: top;\n",
       "    }\n",
       "\n",
       "    .dataframe thead th {\n",
       "        text-align: right;\n",
       "    }\n",
       "</style>\n",
       "<table border=\"1\" class=\"dataframe\">\n",
       "  <thead>\n",
       "    <tr style=\"text-align: right;\">\n",
       "      <th></th>\n",
       "      <th>Unnamed: 0</th>\n",
       "      <th>Comments</th>\n",
       "      <th>Quality</th>\n",
       "      <th>Difficulty</th>\n",
       "      <th>Dates</th>\n",
       "      <th>TeacherID</th>\n",
       "      <th>SchoolID</th>\n",
       "      <th>status</th>\n",
       "    </tr>\n",
       "  </thead>\n",
       "  <tbody>\n",
       "    <tr>\n",
       "      <th>0</th>\n",
       "      <td>0</td>\n",
       "      <td>Professor Acres is incredible--friendly, knowl...</td>\n",
       "      <td>5.0</td>\n",
       "      <td>4.0</td>\n",
       "      <td>2017-05-02</td>\n",
       "      <td>336888</td>\n",
       "      <td>780</td>\n",
       "      <td>top</td>\n",
       "    </tr>\n",
       "    <tr>\n",
       "      <th>1</th>\n",
       "      <td>1</td>\n",
       "      <td>He is an amazing professor- I definitely recom...</td>\n",
       "      <td>5.0</td>\n",
       "      <td>3.0</td>\n",
       "      <td>2017-04-28</td>\n",
       "      <td>336888</td>\n",
       "      <td>780</td>\n",
       "      <td>top</td>\n",
       "    </tr>\n",
       "    <tr>\n",
       "      <th>2</th>\n",
       "      <td>2</td>\n",
       "      <td>Great!</td>\n",
       "      <td>3.0</td>\n",
       "      <td>3.0</td>\n",
       "      <td>2012-03-23</td>\n",
       "      <td>336888</td>\n",
       "      <td>780</td>\n",
       "      <td>top</td>\n",
       "    </tr>\n",
       "    <tr>\n",
       "      <th>3</th>\n",
       "      <td>3</td>\n",
       "      <td>Awesome</td>\n",
       "      <td>5.0</td>\n",
       "      <td>1.0</td>\n",
       "      <td>2011-02-01</td>\n",
       "      <td>336888</td>\n",
       "      <td>780</td>\n",
       "      <td>top</td>\n",
       "    </tr>\n",
       "    <tr>\n",
       "      <th>4</th>\n",
       "      <td>4</td>\n",
       "      <td>Al is an absolutely great professor. His semin...</td>\n",
       "      <td>5.0</td>\n",
       "      <td>4.0</td>\n",
       "      <td>2007-10-21</td>\n",
       "      <td>336888</td>\n",
       "      <td>780</td>\n",
       "      <td>top</td>\n",
       "    </tr>\n",
       "    <tr>\n",
       "      <th>...</th>\n",
       "      <td>...</td>\n",
       "      <td>...</td>\n",
       "      <td>...</td>\n",
       "      <td>...</td>\n",
       "      <td>...</td>\n",
       "      <td>...</td>\n",
       "      <td>...</td>\n",
       "      <td>...</td>\n",
       "    </tr>\n",
       "    <tr>\n",
       "      <th>81712</th>\n",
       "      <td>81712</td>\n",
       "      <td>Difficult to understand and not very helpful. ...</td>\n",
       "      <td>1.5</td>\n",
       "      <td>3.0</td>\n",
       "      <td>2009-12-23</td>\n",
       "      <td>608528</td>\n",
       "      <td>4171</td>\n",
       "      <td>bottom</td>\n",
       "    </tr>\n",
       "    <tr>\n",
       "      <th>81713</th>\n",
       "      <td>81713</td>\n",
       "      <td>MUY MAL!! This teacher is unorganized and scat...</td>\n",
       "      <td>1.0</td>\n",
       "      <td>1.0</td>\n",
       "      <td>2005-12-22</td>\n",
       "      <td>608528</td>\n",
       "      <td>4171</td>\n",
       "      <td>bottom</td>\n",
       "    </tr>\n",
       "    <tr>\n",
       "      <th>81714</th>\n",
       "      <td>81714</td>\n",
       "      <td>very sweet disposition -- very willing to help...</td>\n",
       "      <td>5.0</td>\n",
       "      <td>1.0</td>\n",
       "      <td>2005-12-20</td>\n",
       "      <td>608528</td>\n",
       "      <td>4171</td>\n",
       "      <td>bottom</td>\n",
       "    </tr>\n",
       "    <tr>\n",
       "      <th>81715</th>\n",
       "      <td>81715</td>\n",
       "      <td>This professor is very helpful, wants her stud...</td>\n",
       "      <td>5.0</td>\n",
       "      <td>1.0</td>\n",
       "      <td>2005-09-06</td>\n",
       "      <td>608528</td>\n",
       "      <td>4171</td>\n",
       "      <td>bottom</td>\n",
       "    </tr>\n",
       "    <tr>\n",
       "      <th>81716</th>\n",
       "      <td>81716</td>\n",
       "      <td>This professor just rox.  She is in possession...</td>\n",
       "      <td>5.0</td>\n",
       "      <td>1.0</td>\n",
       "      <td>2005-04-29</td>\n",
       "      <td>608528</td>\n",
       "      <td>4171</td>\n",
       "      <td>bottom</td>\n",
       "    </tr>\n",
       "  </tbody>\n",
       "</table>\n",
       "<p>79793 rows × 8 columns</p>\n",
       "</div>"
      ],
      "text/plain": [
       "       Unnamed: 0                                           Comments  Quality  \\\n",
       "0               0  Professor Acres is incredible--friendly, knowl...      5.0   \n",
       "1               1  He is an amazing professor- I definitely recom...      5.0   \n",
       "2               2                                             Great!      3.0   \n",
       "3               3                                            Awesome      5.0   \n",
       "4               4  Al is an absolutely great professor. His semin...      5.0   \n",
       "...           ...                                                ...      ...   \n",
       "81712       81712  Difficult to understand and not very helpful. ...      1.5   \n",
       "81713       81713  MUY MAL!! This teacher is unorganized and scat...      1.0   \n",
       "81714       81714  very sweet disposition -- very willing to help...      5.0   \n",
       "81715       81715  This professor is very helpful, wants her stud...      5.0   \n",
       "81716       81716  This professor just rox.  She is in possession...      5.0   \n",
       "\n",
       "       Difficulty       Dates  TeacherID  SchoolID  status  \n",
       "0             4.0  2017-05-02     336888       780     top  \n",
       "1             3.0  2017-04-28     336888       780     top  \n",
       "2             3.0  2012-03-23     336888       780     top  \n",
       "3             1.0  2011-02-01     336888       780     top  \n",
       "4             4.0  2007-10-21     336888       780     top  \n",
       "...           ...         ...        ...       ...     ...  \n",
       "81712         3.0  2009-12-23     608528      4171  bottom  \n",
       "81713         1.0  2005-12-22     608528      4171  bottom  \n",
       "81714         1.0  2005-12-20     608528      4171  bottom  \n",
       "81715         1.0  2005-09-06     608528      4171  bottom  \n",
       "81716         1.0  2005-04-29     608528      4171  bottom  \n",
       "\n",
       "[79793 rows x 8 columns]"
      ]
     },
     "execution_count": 60,
     "metadata": {},
     "output_type": "execute_result"
    }
   ],
   "source": []
  },
  {
   "cell_type": "code",
   "execution_count": 63,
   "id": "3a95b6be",
   "metadata": {},
   "outputs": [
    {
     "data": {
      "text/plain": [
       "0        Professor Acres is incredible--friendly, knowl...\n",
       "1        He is an amazing professor- I definitely recom...\n",
       "2                                                   Great!\n",
       "3                                                  Awesome\n",
       "4        Al is an absolutely great professor. His semin...\n",
       "                               ...                        \n",
       "81712    Difficult to understand and not very helpful. ...\n",
       "81713    MUY MAL!! This teacher is unorganized and scat...\n",
       "81714    very sweet disposition -- very willing to help...\n",
       "81715    This professor is very helpful, wants her stud...\n",
       "81716    This professor just rox.  She is in possession...\n",
       "Name: Comments, Length: 79635, dtype: object"
      ]
     },
     "execution_count": 63,
     "metadata": {},
     "output_type": "execute_result"
    }
   ],
   "source": []
  }
 ],
 "metadata": {
  "kernelspec": {
   "display_name": "Python 3",
   "language": "python",
   "name": "python3"
  },
  "language_info": {
   "codemirror_mode": {
    "name": "ipython",
    "version": 3
   },
   "file_extension": ".py",
   "mimetype": "text/x-python",
   "name": "python",
   "nbconvert_exporter": "python",
   "pygments_lexer": "ipython3",
   "version": "3.8.8"
  }
 },
 "nbformat": 4,
 "nbformat_minor": 5
}

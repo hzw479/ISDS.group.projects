{
 "cells": [
  {
   "cell_type": "code",
   "execution_count": null,
   "id": "3b5115a7",
   "metadata": {},
   "outputs": [],
   "source": [
    "df_comments\n",
    "\n",
    "\n",
    "\n",
    "#Hvor lange er gnstkommentar\n",
    "\n",
    "len(df_comments['Comments'])\n",
    "#Hvad er gennemsnitsdifficulty og quality\n",
    "\n",
    "for col in df_comments:\n",
    "    result[col] = df[col].apply(len).mean()\n",
    "\n",
    "\n",
    "#Hvor mange ratings er der i gennemsnit for skoelr\n"
   ]
  }
 ],
 "metadata": {
  "kernelspec": {
   "display_name": "Python 3",
   "language": "python",
   "name": "python3"
  },
  "language_info": {
   "codemirror_mode": {
    "name": "ipython",
    "version": 3
   },
   "file_extension": ".py",
   "mimetype": "text/x-python",
   "name": "python",
   "nbconvert_exporter": "python",
   "pygments_lexer": "ipython3",
   "version": "3.8.8"
  }
 },
 "nbformat": 4,
 "nbformat_minor": 5
}

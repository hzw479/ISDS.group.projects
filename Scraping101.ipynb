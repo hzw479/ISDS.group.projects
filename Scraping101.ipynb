{
 "cells": [
  {
   "cell_type": "code",
   "execution_count": 1,
   "id": "39a9da3a",
   "metadata": {},
   "outputs": [],
   "source": [
    "from bs4 import BeautifulSoup\n",
    "from selenium import webdriver\n",
    "from webdriver_manager.chrome import ChromeDriverManager\n",
    "import time\n",
    "from selenium.webdriver.support.ui import WebDriverWait\n",
    "from selenium.webdriver.support import expected_conditions as EC\n",
    "from selenium.webdriver.common.by import By\n",
    "import requests\n",
    "import re\n",
    "import selenium\n",
    "import pandas as pd\n",
    "import html5lib\n",
    "import math\n",
    "import lxml\n",
    "import html.parser\n"
   ]
  },
  {
   "cell_type": "code",
   "execution_count": 36,
   "id": "b14477d6",
   "metadata": {},
   "outputs": [
    {
     "name": "stdout",
     "output_type": "stream",
     "text": [
      "Requirement already satisfied: lxml in /Library/Frameworks/Python.framework/Versions/3.7/lib/python3.7/site-packages (4.6.3)\n",
      "\u001b[33mYou are using pip version 19.0.3, however version 21.2.4 is available.\n",
      "You should consider upgrading via the 'pip install --upgrade pip' command.\u001b[0m\n",
      "Note: you may need to restart the kernel to use updated packages.\n"
     ]
    }
   ],
   "source": [
    "pip install lxml"
   ]
  },
  {
   "cell_type": "code",
   "execution_count": 2,
   "id": "848f393f",
   "metadata": {},
   "outputs": [],
   "source": [
    "dict_of_schools={'Princeton University':{'Number of professors':326 , 'School ID':780},\n",
    "                 'Harvard University':{'Number of professors': 567, 'School ID':399},\n",
    "                 'Columbia University':{'Number of professors': 893, 'School ID':278},\n",
    "                 'Massachusetts Institute of Technology':{'Number of professors':346 , 'School ID':580},\n",
    "                 'Yale University':{'Number of professors':464 , 'School ID':1222},\n",
    "                 'Stanford University':{'Number of professors':611 , 'School ID':953},\n",
    "                 'University of Chicago':{'Number of professors':507 , 'School ID':1085},\n",
    "                 'University of Pennsylvania':{'Number of professors':523 , 'School ID':169},\n",
    "                 'California Institute of Technology':{'Number of professors':93 , 'School ID':148},\n",
    "                 'Johns Hopkins University':{'Number of professors':830 , 'School ID':464},\n",
    "                 \n",
    "                 'Wichita State University':{'Number of professors':1713 , 'School ID':1197},\n",
    "                 'Western Kentucky University':{'Number of professors':1669 , 'School ID':1176},\n",
    "                 'University of Charleston':{'Number of professors':94 , 'School ID':1084},\n",
    "                 'Regent University':{'Number of professors':485 , 'School ID':4375},\n",
    "                 'University of Hawaii at Hilo ':{'Number of professors':435 , 'School ID':1105},\n",
    "                 'Cleveland State University ':{'Number of professors':1862 , 'School ID':244},\n",
    "                 'Husson University':{'Number of professors':221 , 'School ID':426},\n",
    "                 'Palm Beach Atlantic University':{'Number of professors':357 , 'School ID':753},\n",
    "                 'Texas Womans University':{'Number of professors':1311 , 'School ID':1014},\n",
    "                 'University of Texas at Tyler':{'Number of professors':717 , 'School ID':4171},\n",
    "                 \n",
    "                }\n"
   ]
  },
  {
   "cell_type": "code",
   "execution_count": null,
   "id": "b1b11c4b",
   "metadata": {},
   "outputs": [],
   "source": []
  },
  {
   "cell_type": "markdown",
   "id": "d9372e3c",
   "metadata": {},
   "source": [
    "The keys for each element in list_of_professor_dicts are:,\n",
    "'tDept' = Department (eg. science, spanish, law ect),\n",
    "'tSid' = The school id (eg. 1222 for all Yale professors),\n",
    "'institution_name' = Name of university,\n",
    "'tFname' = First name,\n",
    "'tMiddlename' = Middle name,\n",
    "'tLname' = Last name,\n",
    "'tid' = Teacher id,\n",
    "'tNumRatings' = Number of ratings,\n",
    "'rating_class' = How is their score (eg. good, average, poor, zero),\n",
    "'contentType' = Have only seen this to return 'TEACHER',\n",
    "'categoryType'= Have only seen this to return 'PROFESSOR',\n",
    "'overall_rating' = Average rating (float)"
   ]
  },
  {
   "cell_type": "code",
   "execution_count": 3,
   "id": "9df310cc",
   "metadata": {},
   "outputs": [],
   "source": [
    "def get_all(school_id, number_of_professors): #BRUG DEN HER OG KUN DEN HER\n",
    "    number_of_pages=math.ceil(number_of_professors/20)\n",
    "    list_of_dfs=[]\n",
    "    for j in range(1,number_of_pages+1):\n",
    "        url=f\"https://www.ratemyprofessors.com/filter/professor/?&page={j}&filter=teacherlastname_sort_s+asc&query=*%3A*&queryoption=TEACHER&queryBy=schoolId&sid=\"+str(school_id)\n",
    "        response = requests.get(url)\n",
    "        list_of_dicts=response.json() #keys are: ['professors', 'searchResultsTotal', 'remaining', 'type']\n",
    "        list_of_professor_dicts=list_of_dicts['professors'] \n",
    "        list_of_dfs.append(pd.concat([pd.DataFrame(list_of_dicts['professors'] [i], index=[i]) for i in range(len(list_of_professor_dicts))],\n",
    "                  ignore_index=True))\n",
    "    df=pd.concat([list_of_dfs[i] for i in range(len(list_of_dfs))], axis= 0).reset_index(drop=True)\n",
    "    list_of_teacher_ids=list(df.tid)\n",
    "    list_of_comments_for_each_teacher=[]\n",
    "    list_of_tags_for_each_teacher=[]\n",
    "    for i in range(len(list_of_teacher_ids)):\n",
    "        my_url = f'https://www.ratemyprofessors.com/ShowRatings.jsp?tid={list_of_teacher_ids[i]}'\n",
    "        my_response = requests.get(my_url)\n",
    "        html = my_response.text\n",
    "        soup = BeautifulSoup(html,'lxml')\n",
    "        my_text = soup.findAll('div', {'class':'Comments__StyledComments-dzzyvm-0 gRjWel'})#list of comments unparsed\n",
    "        my_tags = soup.findAll('span', {'class':'Tag-bs9vf4-0 hHOVKF'})#list of comments unparsed\n",
    "        finished_comments=[i.text for i in my_text]\n",
    "        finished_tags=[i.text for i in my_tags]\n",
    "        list_of_comments_for_each_teacher.append(finished_comments)\n",
    "        list_of_tags_for_each_teacher.append(finished_tags)\n",
    "    df['Comments']=list_of_comments_for_each_teacher\n",
    "    df['Tags']=list_of_tags_for_each_teacher\n",
    "    df.to_csv(f'{school_id}.csv')\n",
    "    \n",
    "    ##Second dataframe\n",
    "    list_of_teacher_ids=list(df['tid'])\n",
    "    list_of_teacher_ids=[int(x) for x in list_of_teacher_ids]\n",
    "    list_of_comments_and_ids=[]\n",
    "    for i in range(len(list_of_teacher_ids)):\n",
    "        my_url = f'https://www.ratemyprofessors.com/ShowRatings.jsp?tid={list_of_teacher_ids[i]}'\n",
    "        my_response = requests.get(my_url, headers={'user-agent': 'For an exam at the university of copenhagen for the course ISDS'})\n",
    "        html = my_response.text\n",
    "        soup = BeautifulSoup(html,'lxml')\n",
    "        my_comments = soup.findAll('div', {'class':'Comments__StyledComments-dzzyvm-0 gRjWel'})#list of tags unparsed\n",
    "        my_date = soup.findAll('div', {'class':'TimeStamp__StyledTimeStamp-sc-9q2r30-0 bXQmMr RatingHeader__RatingTimeStamp-sc-1dlkqw1-3 BlaCV'})#list of dates unparsed\n",
    "        my_quality = soup.findAll('div', {'class':'CardNumRating__StyledCardNumRating-sc-17t4b9u-0 eWZmyX'})#list of dates unparsed\n",
    "        finished_quality=[i.text for i in my_quality]\n",
    "        finished_comments=[i.text for i in my_comments]\n",
    "        finished_dates=[i.text for i in my_date]\n",
    "        if len(finished_comments)!=0:\n",
    "            list_of_comments_and_ids.append([finished_comments, [k[-3:] for k in finished_quality[0::2]],[k[-3:] for k in finished_quality[1::2]], finished_dates[0::2],[list_of_teacher_ids[i] for j in range(len(finished_comments))]])\n",
    "    hej=pd.concat([pd.DataFrame(list_of_comments_and_ids[i]).T for i in range(len(list_of_comments_and_ids))])\n",
    "    hej.columns=['Comments', 'Quality','Difficulty','Dates', 'TeacherID']\n",
    "    hej=hej.reset_index(drop=True)\n",
    "    hej.to_csv(f'{school_id}comments.csv')\n",
    "    return \n"
   ]
  },
  {
   "cell_type": "code",
   "execution_count": 520,
   "id": "f36c89db",
   "metadata": {},
   "outputs": [],
   "source": [
    "get_all(schoolID, number_of_prof)"
   ]
  },
  {
   "cell_type": "code",
   "execution_count": 15,
   "id": "7d7e43ff",
   "metadata": {
    "scrolled": true
   },
   "outputs": [],
   "source": [
    "hej1=pd.read_csv('399.csv')\n",
    "hej2=pd.read_csv('399comments.csv')\n",
    "#hej2"
   ]
  },
  {
   "cell_type": "code",
   "execution_count": 4,
   "id": "62a3ffbb",
   "metadata": {},
   "outputs": [
    {
     "name": "stdout",
     "output_type": "stream",
     "text": [
      "University of Chicago\n",
      "University of Pennsylvania\n",
      "California Institute of Technology\n",
      "Johns Hopkins University\n",
      "Wichita State University\n",
      "Western Kentucky University\n",
      "University of Charleston\n",
      "Regent University\n",
      "University of Hawaii at Hilo \n",
      "Cleveland State University \n",
      "Husson University\n",
      "Palm Beach Atlantic University\n",
      "Texas Womans University\n",
      "University of Texas at Tyler\n"
     ]
    }
   ],
   "source": [
    "for i in list(dict_of_schools.keys())[6:]:\n",
    "    print(i)\n",
    "    school_to_run=i\n",
    "    number_of_prof=dict_of_schools[school_to_run]['Number of professors']\n",
    "    schoolID=dict_of_schools[school_to_run]['School ID']\n",
    "    get_all(schoolID, number_of_prof)"
   ]
  }
 ],
 "metadata": {
  "kernelspec": {
   "display_name": "Python 3 (ipykernel)",
   "language": "python",
   "name": "python3"
  },
  "language_info": {
   "codemirror_mode": {
    "name": "ipython",
    "version": 3
   },
   "file_extension": ".py",
   "mimetype": "text/x-python",
   "name": "python",
   "nbconvert_exporter": "python",
   "pygments_lexer": "ipython3",
   "version": "3.7.4"
  }
 },
 "nbformat": 4,
 "nbformat_minor": 5
}

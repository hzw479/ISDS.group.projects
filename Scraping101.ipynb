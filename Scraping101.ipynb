{
 "cells": [
  {
   "cell_type": "code",
   "execution_count": 63,
   "id": "39a9da3a",
   "metadata": {},
   "outputs": [],
   "source": [
    "from bs4 import BeautifulSoup\n",
    "from selenium import webdriver\n",
    "from webdriver_manager.chrome import ChromeDriverManager\n",
    "import time\n",
    "from selenium.webdriver.support.ui import WebDriverWait\n",
    "from selenium.webdriver.support import expected_conditions as EC\n",
    "from selenium.webdriver.common.by import By\n",
    "import requests\n",
    "import re\n",
    "import selenium\n",
    "import pandas as pd\n",
    "import html5lib\n",
    "import math\n"
   ]
  },
  {
   "cell_type": "code",
   "execution_count": null,
   "id": "848f393f",
   "metadata": {},
   "outputs": [],
   "source": []
  },
  {
   "cell_type": "code",
   "execution_count": 194,
   "id": "726bcc75",
   "metadata": {},
   "outputs": [
    {
     "data": {
      "text/plain": [
       "'\\nstart_time = time.time()\\nurl = \\'https://www.ratemyprofessors.com/search/teachers?query=*&sid=1222\\'\\ndriver = webdriver.Chrome(ChromeDriverManager().install())\\ndriver.get(url)\\n\\n\\ndriver.find_element_by_class_name(\\'Buttons__Button-sc-19xdot-1 PaginationButton__StyledPaginationButton-txi1dr-1 eaZArN\\').click()\\n\\n#hej=driver.find_element_by_class_name(\\'SearchResultsPage__AddPromptWrapper-sc-1srop1v-2 gUWHGC\\').click()\\n#driver.find_element_by_class_name(\\'CardName__StyledCardName-sc-1gyrgim-0 cJdVEK\\')\\ndriver.find_element(By.linkText(\"Show More\")).click()\\n\\n\\n\\n\\n#soup = BeautifulSoup(driver.page_source, \\'lxml\\')\\n#company=soup.find(\\'td\\',{\\'id\\':\\'domain_registrant_name\\'}).text.strip()\\n#print(company)\\n'"
      ]
     },
     "execution_count": 194,
     "metadata": {},
     "output_type": "execute_result"
    }
   ],
   "source": [
    "\"\"\"\n",
    "start_time = time.time()\n",
    "url = 'https://www.ratemyprofessors.com/search/teachers?query=*&sid=1222'\n",
    "driver = webdriver.Chrome(ChromeDriverManager().install())\n",
    "driver.get(url)\n",
    "\n",
    "\n",
    "driver.find_element_by_class_name('Buttons__Button-sc-19xdot-1 PaginationButton__StyledPaginationButton-txi1dr-1 eaZArN').click()\n",
    "\n",
    "#hej=driver.find_element_by_class_name('SearchResultsPage__AddPromptWrapper-sc-1srop1v-2 gUWHGC').click()\n",
    "#driver.find_element_by_class_name('CardName__StyledCardName-sc-1gyrgim-0 cJdVEK')\n",
    "driver.find_element(By.linkText(\"Show More\")).click()\n",
    "\n",
    "\n",
    "\n",
    "\n",
    "#soup = BeautifulSoup(driver.page_source, 'lxml')\n",
    "#company=soup.find('td',{'id':'domain_registrant_name'}).text.strip()\n",
    "#print(company)\n",
    "\"\"\""
   ]
  },
  {
   "cell_type": "code",
   "execution_count": 195,
   "id": "4feacfea",
   "metadata": {
    "scrolled": true
   },
   "outputs": [
    {
     "data": {
      "text/plain": [
       "'\\nschool_id=1222\\nnumber_of_professors=464\\nnumber_of_pages=math.ceil(number_of_professors/20)\\nschool_url=\"https://www.ratemyprofessors.com/filter/professor/?&page=1&filter=teacherlastname_sort_s+asc&query=*%3A*&queryoption=TEACHER&queryBy=schoolId&sid=\"+str(school_id)\\n\\n\\n\\n#VIGTIG_URL=\"https://www.ratemyprofessors.com/filter/professor/?&page=1&filter=teacherlastname_sort_s+asc&query=*%3A*&queryoption=TEACHER&queryBy=schoolId&sid=1222\"\\n#20 PROFESSORER PR SIDE\\n#464 professors at Yale University\\n\\nresponse = requests.get(school_url)\\nlist_of_dicts=response.json() #keys are: [\\'professors\\', \\'searchResultsTotal\\', \\'remaining\\', \\'type\\']\\nlist_of_professor_dicts=list_of_dicts[\\'professors\\'] \\nnumber_of_professors=list_of_dicts[\\'searchResultsTotal\\']\\n\\nreal_df=pd.concat([pd.DataFrame(list_of_dicts[\\'professors\\'] [i], index=[i]) for i in range(20)],\\n          ignore_index=True)\\n\\n'"
      ]
     },
     "execution_count": 195,
     "metadata": {},
     "output_type": "execute_result"
    }
   ],
   "source": [
    "\"\"\"\n",
    "school_id=1222\n",
    "number_of_professors=464\n",
    "number_of_pages=math.ceil(number_of_professors/20)\n",
    "school_url=\"https://www.ratemyprofessors.com/filter/professor/?&page=1&filter=teacherlastname_sort_s+asc&query=*%3A*&queryoption=TEACHER&queryBy=schoolId&sid=\"+str(school_id)\n",
    "\n",
    "\n",
    "\n",
    "#VIGTIG_URL=\"https://www.ratemyprofessors.com/filter/professor/?&page=1&filter=teacherlastname_sort_s+asc&query=*%3A*&queryoption=TEACHER&queryBy=schoolId&sid=1222\"\n",
    "#20 PROFESSORER PR SIDE\n",
    "#464 professors at Yale University\n",
    "\n",
    "response = requests.get(school_url)\n",
    "list_of_dicts=response.json() #keys are: ['professors', 'searchResultsTotal', 'remaining', 'type']\n",
    "list_of_professor_dicts=list_of_dicts['professors'] \n",
    "number_of_professors=list_of_dicts['searchResultsTotal']\n",
    "\n",
    "real_df=pd.concat([pd.DataFrame(list_of_dicts['professors'] [i], index=[i]) for i in range(20)],\n",
    "          ignore_index=True)\n",
    "\n",
    "\"\"\""
   ]
  },
  {
   "cell_type": "markdown",
   "id": "386c3e62",
   "metadata": {},
   "source": [
    "The keys for each element in list_of_professor_dicts are:\n",
    "\n",
    "'tDept' = Department (eg. science, spanish, law ect)\n",
    "\n",
    "'tSid' = The school id (eg. 1222 for all Yale professors)\n",
    "\n",
    "'institution_name' = Name of university\n",
    "\n",
    "'tFname' = First name\n",
    "\n",
    "'tMiddlename' = Middle name\n",
    "\n",
    "'tLname' = Last name\n",
    "\n",
    "'tid' = Teacher id\n",
    "\n",
    "'tNumRatings' = Number of ratings\n",
    "\n",
    "'rating_class' = How is their score (eg. good, average, poor, zero)\n",
    "\n",
    "'contentType' = Have only seen this to return 'TEACHER'\n",
    "\n",
    "'categoryType'= Have only seen this to return 'PROFESSOR'\n",
    "\n",
    "'overall_rating' = Average rating (float)"
   ]
  },
  {
   "cell_type": "code",
   "execution_count": 182,
   "id": "2bcd4122",
   "metadata": {},
   "outputs": [],
   "source": [
    "def get_dataframe_of_school(school_id, number_of_professors):\n",
    "    \"\"\"This function returns a dataframe with al teachers for a given school as well as a bunch of attributes\"\"\"\n",
    "    number_of_pages=math.ceil(number_of_professors/20)\n",
    "    list_of_dfs=[]\n",
    "    for j in range(1,number_of_pages+1):\n",
    "        url=f\"https://www.ratemyprofessors.com/filter/professor/?&page={j}&filter=teacherlastname_sort_s+asc&query=*%3A*&queryoption=TEACHER&queryBy=schoolId&sid=\"+str(school_id)\n",
    "        response = requests.get(url)\n",
    "        list_of_dicts=response.json() #keys are: ['professors', 'searchResultsTotal', 'remaining', 'type']\n",
    "        list_of_professor_dicts=list_of_dicts['professors'] \n",
    "        list_of_dfs.append(pd.concat([pd.DataFrame(list_of_dicts['professors'] [i], index=[i]) for i in range(len(list_of_professor_dicts))],\n",
    "                  ignore_index=True))\n",
    "    return pd.concat([list_of_dfs[i] for i in range(len(list_of_dfs))], axis= 0).reset_index(drop=True)\n",
    "\n",
    "        \n",
    "hej=get_dataframe_of_school(1222, 464)"
   ]
  },
  {
   "cell_type": "code",
   "execution_count": 190,
   "id": "6fd390b2",
   "metadata": {},
   "outputs": [
    {
     "name": "stdout",
     "output_type": "stream",
     "text": [
      "0\n",
      "1\n",
      "2\n",
      "3\n",
      "4\n",
      "5\n",
      "6\n",
      "7\n",
      "8\n",
      "9\n",
      "10\n",
      "11\n",
      "12\n",
      "13\n",
      "14\n",
      "15\n",
      "16\n",
      "17\n",
      "18\n",
      "19\n"
     ]
    }
   ],
   "source": [
    "def add_comments_to_df(df):\n",
    "    list_of_teacher_ids=list(df.tid)\n",
    "    list_of_comments_for_each_teacher=[]\n",
    "    for i in range(len(list_of_teacher_ids)):\n",
    "        print(i)\n",
    "        my_url = f'https://www.ratemyprofessors.com/ShowRatings.jsp?tid={list_of_teacher_ids[i]}'\n",
    "        my_response = requests.get(my_url)\n",
    "        html = my_response.text\n",
    "        soup = BeautifulSoup(html,'lxml')\n",
    "        my_text = soup.findAll('div', {'class':'Comments__StyledComments-dzzyvm-0 gRjWel'})#list of comments unparsed\n",
    "        finished_comments=[i.text for i in my_text]\n",
    "        list_of_comments_for_each_teacher.append(finished_comments)\n",
    "    df['Comments']=list_of_comments_for_each_teacher\n",
    "        \n",
    "    return df\n",
    "\n",
    "ok=add_comments_to_df(hej)\n",
    "ok"
   ]
  }
 ],
 "metadata": {
  "kernelspec": {
   "display_name": "Python 3 (ipykernel)",
   "language": "python",
   "name": "python3"
  },
  "language_info": {
   "codemirror_mode": {
    "name": "ipython",
    "version": 3
   },
   "file_extension": ".py",
   "mimetype": "text/x-python",
   "name": "python",
   "nbconvert_exporter": "python",
   "pygments_lexer": "ipython3",
   "version": "3.9.1"
  }
 },
 "nbformat": 4,
 "nbformat_minor": 5
}
